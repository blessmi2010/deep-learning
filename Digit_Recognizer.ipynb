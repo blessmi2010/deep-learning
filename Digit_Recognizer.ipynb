{
  "cells": [
    {
      "cell_type": "markdown",
      "metadata": {
        "id": "qPKLBoD7mY-S"
      },
      "source": [
        "# Approach for the problem"
      ]
    },
    {
      "cell_type": "markdown",
      "metadata": {
        "id": "At-6hOKemeO2"
      },
      "source": [
        "1. Load Data and Libraries\n",
        "2. Data Visualization\n",
        "3. Divide the data into X (images) and Y (Labels)\n",
        "4. Divide the data into train and test\n",
        "5. Apply ML and Evaluate\n",
        "6. Single Layer Perceptron and Evaluate\n",
        "7. Multilayer Perceptron and Evaluate\n",
        "8. Deep Learning using Tensorflow and Keras\n",
        "\n"
      ]
    },
    {
      "cell_type": "markdown",
      "metadata": {
        "id": "8KcfYTaDmGK7"
      },
      "source": [
        "# Load Data and Libraries\n"
      ]
    },
    {
      "cell_type": "code",
      "execution_count": null,
      "metadata": {
        "colab": {
          "base_uri": "https://localhost:8080/"
        },
        "id": "VL12ViPsfx9O",
        "outputId": "7a60c8c3-e087-4479-bea5-21941ed1488b"
      },
      "outputs": [
        {
          "name": "stdout",
          "output_type": "stream",
          "text": [
            "Archive:  /content/Digit Recognizer.zip\n",
            "  inflating: sample_submission.csv   \n",
            "  inflating: test.csv                \n",
            "  inflating: train.csv               \n"
          ]
        }
      ],
      "source": [
        "!unzip '/content/Digit Recognizer.zip'"
      ]
    },
    {
      "cell_type": "code",
      "execution_count": null,
      "metadata": {
        "id": "JjXwpr-tmSya"
      },
      "outputs": [],
      "source": [
        "import pandas as pd\n",
        "import numpy as np\n",
        "import matplotlib.pyplot as plt\n",
        "import seaborn as sns\n",
        "from sklearn.model_selection import train_test_split\n",
        "from sklearn.ensemble import RandomForestClassifier , GradientBoostingClassifier\n",
        "from sklearn.metrics import confusion_matrix , accuracy_score , classification_report\n",
        "from sklearn.linear_model import Perceptron\n",
        "from sklearn.neural_network import MLPClassifier"
      ]
    },
    {
      "cell_type": "code",
      "execution_count": null,
      "metadata": {
        "id": "qTdkyxKRoOPT"
      },
      "outputs": [],
      "source": [
        "train = pd.read_csv('/content/train.csv')\n",
        "test = pd.read_csv('/content/test.csv')"
      ]
    },
    {
      "cell_type": "code",
      "execution_count": null,
      "metadata": {
        "colab": {
          "base_uri": "https://localhost:8080/",
          "height": 256
        },
        "id": "UUEDmwXMolJ7",
        "outputId": "f5d57996-30ba-40ab-a2c6-81fa8b294988"
      },
      "outputs": [
        {
          "data": {
            "application/vnd.google.colaboratory.intrinsic+json": {
              "type": "dataframe",
              "variable_name": "train"
            },
            "text/html": [
              "\n",
              "  <div id=\"df-342b60cf-4a25-4611-ab2c-89bd20832fdd\" class=\"colab-df-container\">\n",
              "    <div>\n",
              "<style scoped>\n",
              "    .dataframe tbody tr th:only-of-type {\n",
              "        vertical-align: middle;\n",
              "    }\n",
              "\n",
              "    .dataframe tbody tr th {\n",
              "        vertical-align: top;\n",
              "    }\n",
              "\n",
              "    .dataframe thead th {\n",
              "        text-align: right;\n",
              "    }\n",
              "</style>\n",
              "<table border=\"1\" class=\"dataframe\">\n",
              "  <thead>\n",
              "    <tr style=\"text-align: right;\">\n",
              "      <th></th>\n",
              "      <th>label</th>\n",
              "      <th>pixel0</th>\n",
              "      <th>pixel1</th>\n",
              "      <th>pixel2</th>\n",
              "      <th>pixel3</th>\n",
              "      <th>pixel4</th>\n",
              "      <th>pixel5</th>\n",
              "      <th>pixel6</th>\n",
              "      <th>pixel7</th>\n",
              "      <th>pixel8</th>\n",
              "      <th>...</th>\n",
              "      <th>pixel774</th>\n",
              "      <th>pixel775</th>\n",
              "      <th>pixel776</th>\n",
              "      <th>pixel777</th>\n",
              "      <th>pixel778</th>\n",
              "      <th>pixel779</th>\n",
              "      <th>pixel780</th>\n",
              "      <th>pixel781</th>\n",
              "      <th>pixel782</th>\n",
              "      <th>pixel783</th>\n",
              "    </tr>\n",
              "  </thead>\n",
              "  <tbody>\n",
              "    <tr>\n",
              "      <th>0</th>\n",
              "      <td>1</td>\n",
              "      <td>0</td>\n",
              "      <td>0</td>\n",
              "      <td>0</td>\n",
              "      <td>0</td>\n",
              "      <td>0</td>\n",
              "      <td>0</td>\n",
              "      <td>0</td>\n",
              "      <td>0</td>\n",
              "      <td>0</td>\n",
              "      <td>...</td>\n",
              "      <td>0</td>\n",
              "      <td>0</td>\n",
              "      <td>0</td>\n",
              "      <td>0</td>\n",
              "      <td>0</td>\n",
              "      <td>0</td>\n",
              "      <td>0</td>\n",
              "      <td>0</td>\n",
              "      <td>0</td>\n",
              "      <td>0</td>\n",
              "    </tr>\n",
              "    <tr>\n",
              "      <th>1</th>\n",
              "      <td>0</td>\n",
              "      <td>0</td>\n",
              "      <td>0</td>\n",
              "      <td>0</td>\n",
              "      <td>0</td>\n",
              "      <td>0</td>\n",
              "      <td>0</td>\n",
              "      <td>0</td>\n",
              "      <td>0</td>\n",
              "      <td>0</td>\n",
              "      <td>...</td>\n",
              "      <td>0</td>\n",
              "      <td>0</td>\n",
              "      <td>0</td>\n",
              "      <td>0</td>\n",
              "      <td>0</td>\n",
              "      <td>0</td>\n",
              "      <td>0</td>\n",
              "      <td>0</td>\n",
              "      <td>0</td>\n",
              "      <td>0</td>\n",
              "    </tr>\n",
              "    <tr>\n",
              "      <th>2</th>\n",
              "      <td>1</td>\n",
              "      <td>0</td>\n",
              "      <td>0</td>\n",
              "      <td>0</td>\n",
              "      <td>0</td>\n",
              "      <td>0</td>\n",
              "      <td>0</td>\n",
              "      <td>0</td>\n",
              "      <td>0</td>\n",
              "      <td>0</td>\n",
              "      <td>...</td>\n",
              "      <td>0</td>\n",
              "      <td>0</td>\n",
              "      <td>0</td>\n",
              "      <td>0</td>\n",
              "      <td>0</td>\n",
              "      <td>0</td>\n",
              "      <td>0</td>\n",
              "      <td>0</td>\n",
              "      <td>0</td>\n",
              "      <td>0</td>\n",
              "    </tr>\n",
              "    <tr>\n",
              "      <th>3</th>\n",
              "      <td>4</td>\n",
              "      <td>0</td>\n",
              "      <td>0</td>\n",
              "      <td>0</td>\n",
              "      <td>0</td>\n",
              "      <td>0</td>\n",
              "      <td>0</td>\n",
              "      <td>0</td>\n",
              "      <td>0</td>\n",
              "      <td>0</td>\n",
              "      <td>...</td>\n",
              "      <td>0</td>\n",
              "      <td>0</td>\n",
              "      <td>0</td>\n",
              "      <td>0</td>\n",
              "      <td>0</td>\n",
              "      <td>0</td>\n",
              "      <td>0</td>\n",
              "      <td>0</td>\n",
              "      <td>0</td>\n",
              "      <td>0</td>\n",
              "    </tr>\n",
              "    <tr>\n",
              "      <th>4</th>\n",
              "      <td>0</td>\n",
              "      <td>0</td>\n",
              "      <td>0</td>\n",
              "      <td>0</td>\n",
              "      <td>0</td>\n",
              "      <td>0</td>\n",
              "      <td>0</td>\n",
              "      <td>0</td>\n",
              "      <td>0</td>\n",
              "      <td>0</td>\n",
              "      <td>...</td>\n",
              "      <td>0</td>\n",
              "      <td>0</td>\n",
              "      <td>0</td>\n",
              "      <td>0</td>\n",
              "      <td>0</td>\n",
              "      <td>0</td>\n",
              "      <td>0</td>\n",
              "      <td>0</td>\n",
              "      <td>0</td>\n",
              "      <td>0</td>\n",
              "    </tr>\n",
              "  </tbody>\n",
              "</table>\n",
              "<p>5 rows × 785 columns</p>\n",
              "</div>\n",
              "    <div class=\"colab-df-buttons\">\n",
              "\n",
              "  <div class=\"colab-df-container\">\n",
              "    <button class=\"colab-df-convert\" onclick=\"convertToInteractive('df-342b60cf-4a25-4611-ab2c-89bd20832fdd')\"\n",
              "            title=\"Convert this dataframe to an interactive table.\"\n",
              "            style=\"display:none;\">\n",
              "\n",
              "  <svg xmlns=\"http://www.w3.org/2000/svg\" height=\"24px\" viewBox=\"0 -960 960 960\">\n",
              "    <path d=\"M120-120v-720h720v720H120Zm60-500h600v-160H180v160Zm220 220h160v-160H400v160Zm0 220h160v-160H400v160ZM180-400h160v-160H180v160Zm440 0h160v-160H620v160ZM180-180h160v-160H180v160Zm440 0h160v-160H620v160Z\"/>\n",
              "  </svg>\n",
              "    </button>\n",
              "\n",
              "  <style>\n",
              "    .colab-df-container {\n",
              "      display:flex;\n",
              "      gap: 12px;\n",
              "    }\n",
              "\n",
              "    .colab-df-convert {\n",
              "      background-color: #E8F0FE;\n",
              "      border: none;\n",
              "      border-radius: 50%;\n",
              "      cursor: pointer;\n",
              "      display: none;\n",
              "      fill: #1967D2;\n",
              "      height: 32px;\n",
              "      padding: 0 0 0 0;\n",
              "      width: 32px;\n",
              "    }\n",
              "\n",
              "    .colab-df-convert:hover {\n",
              "      background-color: #E2EBFA;\n",
              "      box-shadow: 0px 1px 2px rgba(60, 64, 67, 0.3), 0px 1px 3px 1px rgba(60, 64, 67, 0.15);\n",
              "      fill: #174EA6;\n",
              "    }\n",
              "\n",
              "    .colab-df-buttons div {\n",
              "      margin-bottom: 4px;\n",
              "    }\n",
              "\n",
              "    [theme=dark] .colab-df-convert {\n",
              "      background-color: #3B4455;\n",
              "      fill: #D2E3FC;\n",
              "    }\n",
              "\n",
              "    [theme=dark] .colab-df-convert:hover {\n",
              "      background-color: #434B5C;\n",
              "      box-shadow: 0px 1px 3px 1px rgba(0, 0, 0, 0.15);\n",
              "      filter: drop-shadow(0px 1px 2px rgba(0, 0, 0, 0.3));\n",
              "      fill: #FFFFFF;\n",
              "    }\n",
              "  </style>\n",
              "\n",
              "    <script>\n",
              "      const buttonEl =\n",
              "        document.querySelector('#df-342b60cf-4a25-4611-ab2c-89bd20832fdd button.colab-df-convert');\n",
              "      buttonEl.style.display =\n",
              "        google.colab.kernel.accessAllowed ? 'block' : 'none';\n",
              "\n",
              "      async function convertToInteractive(key) {\n",
              "        const element = document.querySelector('#df-342b60cf-4a25-4611-ab2c-89bd20832fdd');\n",
              "        const dataTable =\n",
              "          await google.colab.kernel.invokeFunction('convertToInteractive',\n",
              "                                                    [key], {});\n",
              "        if (!dataTable) return;\n",
              "\n",
              "        const docLinkHtml = 'Like what you see? Visit the ' +\n",
              "          '<a target=\"_blank\" href=https://colab.research.google.com/notebooks/data_table.ipynb>data table notebook</a>'\n",
              "          + ' to learn more about interactive tables.';\n",
              "        element.innerHTML = '';\n",
              "        dataTable['output_type'] = 'display_data';\n",
              "        await google.colab.output.renderOutput(dataTable, element);\n",
              "        const docLink = document.createElement('div');\n",
              "        docLink.innerHTML = docLinkHtml;\n",
              "        element.appendChild(docLink);\n",
              "      }\n",
              "    </script>\n",
              "  </div>\n",
              "\n",
              "\n",
              "<div id=\"df-05234fc0-f905-497f-9523-ddbf888044fe\">\n",
              "  <button class=\"colab-df-quickchart\" onclick=\"quickchart('df-05234fc0-f905-497f-9523-ddbf888044fe')\"\n",
              "            title=\"Suggest charts\"\n",
              "            style=\"display:none;\">\n",
              "\n",
              "<svg xmlns=\"http://www.w3.org/2000/svg\" height=\"24px\"viewBox=\"0 0 24 24\"\n",
              "     width=\"24px\">\n",
              "    <g>\n",
              "        <path d=\"M19 3H5c-1.1 0-2 .9-2 2v14c0 1.1.9 2 2 2h14c1.1 0 2-.9 2-2V5c0-1.1-.9-2-2-2zM9 17H7v-7h2v7zm4 0h-2V7h2v10zm4 0h-2v-4h2v4z\"/>\n",
              "    </g>\n",
              "</svg>\n",
              "  </button>\n",
              "\n",
              "<style>\n",
              "  .colab-df-quickchart {\n",
              "      --bg-color: #E8F0FE;\n",
              "      --fill-color: #1967D2;\n",
              "      --hover-bg-color: #E2EBFA;\n",
              "      --hover-fill-color: #174EA6;\n",
              "      --disabled-fill-color: #AAA;\n",
              "      --disabled-bg-color: #DDD;\n",
              "  }\n",
              "\n",
              "  [theme=dark] .colab-df-quickchart {\n",
              "      --bg-color: #3B4455;\n",
              "      --fill-color: #D2E3FC;\n",
              "      --hover-bg-color: #434B5C;\n",
              "      --hover-fill-color: #FFFFFF;\n",
              "      --disabled-bg-color: #3B4455;\n",
              "      --disabled-fill-color: #666;\n",
              "  }\n",
              "\n",
              "  .colab-df-quickchart {\n",
              "    background-color: var(--bg-color);\n",
              "    border: none;\n",
              "    border-radius: 50%;\n",
              "    cursor: pointer;\n",
              "    display: none;\n",
              "    fill: var(--fill-color);\n",
              "    height: 32px;\n",
              "    padding: 0;\n",
              "    width: 32px;\n",
              "  }\n",
              "\n",
              "  .colab-df-quickchart:hover {\n",
              "    background-color: var(--hover-bg-color);\n",
              "    box-shadow: 0 1px 2px rgba(60, 64, 67, 0.3), 0 1px 3px 1px rgba(60, 64, 67, 0.15);\n",
              "    fill: var(--button-hover-fill-color);\n",
              "  }\n",
              "\n",
              "  .colab-df-quickchart-complete:disabled,\n",
              "  .colab-df-quickchart-complete:disabled:hover {\n",
              "    background-color: var(--disabled-bg-color);\n",
              "    fill: var(--disabled-fill-color);\n",
              "    box-shadow: none;\n",
              "  }\n",
              "\n",
              "  .colab-df-spinner {\n",
              "    border: 2px solid var(--fill-color);\n",
              "    border-color: transparent;\n",
              "    border-bottom-color: var(--fill-color);\n",
              "    animation:\n",
              "      spin 1s steps(1) infinite;\n",
              "  }\n",
              "\n",
              "  @keyframes spin {\n",
              "    0% {\n",
              "      border-color: transparent;\n",
              "      border-bottom-color: var(--fill-color);\n",
              "      border-left-color: var(--fill-color);\n",
              "    }\n",
              "    20% {\n",
              "      border-color: transparent;\n",
              "      border-left-color: var(--fill-color);\n",
              "      border-top-color: var(--fill-color);\n",
              "    }\n",
              "    30% {\n",
              "      border-color: transparent;\n",
              "      border-left-color: var(--fill-color);\n",
              "      border-top-color: var(--fill-color);\n",
              "      border-right-color: var(--fill-color);\n",
              "    }\n",
              "    40% {\n",
              "      border-color: transparent;\n",
              "      border-right-color: var(--fill-color);\n",
              "      border-top-color: var(--fill-color);\n",
              "    }\n",
              "    60% {\n",
              "      border-color: transparent;\n",
              "      border-right-color: var(--fill-color);\n",
              "    }\n",
              "    80% {\n",
              "      border-color: transparent;\n",
              "      border-right-color: var(--fill-color);\n",
              "      border-bottom-color: var(--fill-color);\n",
              "    }\n",
              "    90% {\n",
              "      border-color: transparent;\n",
              "      border-bottom-color: var(--fill-color);\n",
              "    }\n",
              "  }\n",
              "</style>\n",
              "\n",
              "  <script>\n",
              "    async function quickchart(key) {\n",
              "      const quickchartButtonEl =\n",
              "        document.querySelector('#' + key + ' button');\n",
              "      quickchartButtonEl.disabled = true;  // To prevent multiple clicks.\n",
              "      quickchartButtonEl.classList.add('colab-df-spinner');\n",
              "      try {\n",
              "        const charts = await google.colab.kernel.invokeFunction(\n",
              "            'suggestCharts', [key], {});\n",
              "      } catch (error) {\n",
              "        console.error('Error during call to suggestCharts:', error);\n",
              "      }\n",
              "      quickchartButtonEl.classList.remove('colab-df-spinner');\n",
              "      quickchartButtonEl.classList.add('colab-df-quickchart-complete');\n",
              "    }\n",
              "    (() => {\n",
              "      let quickchartButtonEl =\n",
              "        document.querySelector('#df-05234fc0-f905-497f-9523-ddbf888044fe button');\n",
              "      quickchartButtonEl.style.display =\n",
              "        google.colab.kernel.accessAllowed ? 'block' : 'none';\n",
              "    })();\n",
              "  </script>\n",
              "</div>\n",
              "\n",
              "    </div>\n",
              "  </div>\n"
            ],
            "text/plain": [
              "   label  pixel0  pixel1  pixel2  pixel3  pixel4  pixel5  pixel6  pixel7  \\\n",
              "0      1       0       0       0       0       0       0       0       0   \n",
              "1      0       0       0       0       0       0       0       0       0   \n",
              "2      1       0       0       0       0       0       0       0       0   \n",
              "3      4       0       0       0       0       0       0       0       0   \n",
              "4      0       0       0       0       0       0       0       0       0   \n",
              "\n",
              "   pixel8  ...  pixel774  pixel775  pixel776  pixel777  pixel778  pixel779  \\\n",
              "0       0  ...         0         0         0         0         0         0   \n",
              "1       0  ...         0         0         0         0         0         0   \n",
              "2       0  ...         0         0         0         0         0         0   \n",
              "3       0  ...         0         0         0         0         0         0   \n",
              "4       0  ...         0         0         0         0         0         0   \n",
              "\n",
              "   pixel780  pixel781  pixel782  pixel783  \n",
              "0         0         0         0         0  \n",
              "1         0         0         0         0  \n",
              "2         0         0         0         0  \n",
              "3         0         0         0         0  \n",
              "4         0         0         0         0  \n",
              "\n",
              "[5 rows x 785 columns]"
            ]
          },
          "execution_count": 4,
          "metadata": {},
          "output_type": "execute_result"
        }
      ],
      "source": [
        "train.head()"
      ]
    },
    {
      "cell_type": "code",
      "execution_count": null,
      "metadata": {
        "colab": {
          "base_uri": "https://localhost:8080/"
        },
        "id": "kmVd1Imio8h1",
        "outputId": "4a4f7c90-6996-4f88-daa8-5a74059aa356"
      },
      "outputs": [
        {
          "name": "stdout",
          "output_type": "stream",
          "text": [
            "<class 'pandas.core.frame.DataFrame'>\n",
            "RangeIndex: 42000 entries, 0 to 41999\n",
            "Columns: 785 entries, label to pixel783\n",
            "dtypes: int64(785)\n",
            "memory usage: 251.5 MB\n"
          ]
        }
      ],
      "source": [
        "train.info()"
      ]
    },
    {
      "cell_type": "markdown",
      "metadata": {
        "id": "YWb611-gstP0"
      },
      "source": [
        "# Visualization"
      ]
    },
    {
      "cell_type": "code",
      "execution_count": null,
      "metadata": {
        "colab": {
          "base_uri": "https://localhost:8080/",
          "height": 430
        },
        "id": "dVby5ALgo9ic",
        "outputId": "3c42387a-9696-4ca2-8ea7-5a2c04e66fa2"
      },
      "outputs": [
        {
          "data": {
            "image/png": "[encoded data removed]",
            "text/plain": [
              "<Figure size 640x480 with 1 Axes>"
            ]
          },
          "metadata": {},
          "output_type": "display_data"
        }
      ],
      "source": [
        "features = ['pixel{}'.format(pixel_num) for pixel_num in range(0,784)]\n",
        "row_to_examine = 4\n",
        "image_data = np.reshape(train[features][row_to_examine : row_to_examine+1].to_numpy(), (28,28))\n",
        "_ = plt.imshow(image_data , cmap = 'gray')"
      ]
    },
    {
      "cell_type": "markdown",
      "metadata": {
        "id": "Xokk0F9Xsw6A"
      },
      "source": [
        "# Splitting of Data"
      ]
    },
    {
      "cell_type": "code",
      "execution_count": null,
      "metadata": {
        "id": "Fd9oPAVJrg7f"
      },
      "outputs": [],
      "source": [
        "x = train.drop('label' , axis = 1)\n",
        "y = train['label']"
      ]
    },
    {
      "cell_type": "code",
      "execution_count": null,
      "metadata": {
        "colab": {
          "base_uri": "https://localhost:8080/"
        },
        "id": "sxn6JohZtAMu",
        "outputId": "3bcfa5df-f666-4f76-ce58-f11040093753"
      },
      "outputs": [
        {
          "name": "stdout",
          "output_type": "stream",
          "text": [
            "(42000, 784)\n",
            "(42000,)\n"
          ]
        }
      ],
      "source": [
        "print(x.shape)\n",
        "print(y.shape)"
      ]
    },
    {
      "cell_type": "code",
      "execution_count": null,
      "metadata": {
        "id": "rYBGDLLItDL7"
      },
      "outputs": [],
      "source": [
        "x_train , x_test , y_train , y_test = train_test_split(x , y , test_size = 0.2 , random_state = 10)"
      ]
    },
    {
      "cell_type": "code",
      "execution_count": null,
      "metadata": {
        "colab": {
          "base_uri": "https://localhost:8080/"
        },
        "id": "KiAzdBUStPQc",
        "outputId": "db34394f-76bb-41a4-a1de-8700b2ce6c11"
      },
      "outputs": [
        {
          "name": "stdout",
          "output_type": "stream",
          "text": [
            "(33600, 784)\n",
            "(8400, 784)\n",
            "(33600,)\n",
            "(8400,)\n"
          ]
        }
      ],
      "source": [
        "print(x_train.shape)\n",
        "print(x_test.shape)\n",
        "print(y_train.shape)\n",
        "print(y_test.shape)"
      ]
    },
    {
      "cell_type": "markdown",
      "metadata": {
        "id": "pMO2MyBj6jhE"
      },
      "source": [
        "# Model Evaluation Function"
      ]
    },
    {
      "cell_type": "code",
      "execution_count": null,
      "metadata": {
        "id": "gEevQMI66m4z"
      },
      "outputs": [],
      "source": [
        "def model_eval(actual , predicted):\n",
        "  conf_matrix = confusion_matrix(actual , predicted)\n",
        "  clas_rep = classification_report(actual , predicted)\n",
        "  acc_score = accuracy_score(actual , predicted)\n",
        "\n",
        "  print(\"The Accuracy of the Model is:\" , round(acc_score , 2))\n",
        "  print(conf_matrix)\n",
        "  print(clas_rep)"
      ]
    },
    {
      "cell_type": "markdown",
      "metadata": {
        "id": "Bb6RuXlQ6bRi"
      },
      "source": [
        "# Random Forest Classifier"
      ]
    },
    {
      "cell_type": "code",
      "execution_count": null,
      "metadata": {
        "colab": {
          "base_uri": "https://localhost:8080/",
          "height": 75
        },
        "id": "6f4xWG8StYZI",
        "outputId": "57078a38-fc70-454c-d022-24bb3d767c0a"
      },
      "outputs": [
        {
          "data": {
            "text/html": [
              "<style>#sk-container-id-1 {color: black;}#sk-container-id-1 pre{padding: 0;}#sk-container-id-1 div.sk-toggleable {background-color: white;}#sk-container-id-1 label.sk-toggleable__label {cursor: pointer;display: block;width: 100%;margin-bottom: 0;padding: 0.3em;box-sizing: border-box;text-align: center;}#sk-container-id-1 label.sk-toggleable__label-arrow:before {content: \"▸\";float: left;margin-right: 0.25em;color: #696969;}#sk-container-id-1 label.sk-toggleable__label-arrow:hover:before {color: black;}#sk-container-id-1 div.sk-estimator:hover label.sk-toggleable__label-arrow:before {color: black;}#sk-container-id-1 div.sk-toggleable__content {max-height: 0;max-width: 0;overflow: hidden;text-align: left;background-color: #f0f8ff;}#sk-container-id-1 div.sk-toggleable__content pre {margin: 0.2em;color: black;border-radius: 0.25em;background-color: #f0f8ff;}#sk-container-id-1 input.sk-toggleable__control:checked~div.sk-toggleable__content {max-height: 200px;max-width: 100%;overflow: auto;}#sk-container-id-1 input.sk-toggleable__control:checked~label.sk-toggleable__label-arrow:before {content: \"▾\";}#sk-container-id-1 div.sk-estimator input.sk-toggleable__control:checked~label.sk-toggleable__label {background-color: #d4ebff;}#sk-container-id-1 div.sk-label input.sk-toggleable__control:checked~label.sk-toggleable__label {background-color: #d4ebff;}#sk-container-id-1 input.sk-hidden--visually {border: 0;clip: rect(1px 1px 1px 1px);clip: rect(1px, 1px, 1px, 1px);height: 1px;margin: -1px;overflow: hidden;padding: 0;position: absolute;width: 1px;}#sk-container-id-1 div.sk-estimator {font-family: monospace;background-color: #f0f8ff;border: 1px dotted black;border-radius: 0.25em;box-sizing: border-box;margin-bottom: 0.5em;}#sk-container-id-1 div.sk-estimator:hover {background-color: #d4ebff;}#sk-container-id-1 div.sk-parallel-item::after {content: \"\";width: 100%;border-bottom: 1px solid gray;flex-grow: 1;}#sk-container-id-1 div.sk-label:hover label.sk-toggleable__label {background-color: #d4ebff;}#sk-container-id-1 div.sk-serial::before {content: \"\";position: absolute;border-left: 1px solid gray;box-sizing: border-box;top: 0;bottom: 0;left: 50%;z-index: 0;}#sk-container-id-1 div.sk-serial {display: flex;flex-direction: column;align-items: center;background-color: white;padding-right: 0.2em;padding-left: 0.2em;position: relative;}#sk-container-id-1 div.sk-item {position: relative;z-index: 1;}#sk-container-id-1 div.sk-parallel {display: flex;align-items: stretch;justify-content: center;background-color: white;position: relative;}#sk-container-id-1 div.sk-item::before, #sk-container-id-1 div.sk-parallel-item::before {content: \"\";position: absolute;border-left: 1px solid gray;box-sizing: border-box;top: 0;bottom: 0;left: 50%;z-index: -1;}#sk-container-id-1 div.sk-parallel-item {display: flex;flex-direction: column;z-index: 1;position: relative;background-color: white;}#sk-container-id-1 div.sk-parallel-item:first-child::after {align-self: flex-end;width: 50%;}#sk-container-id-1 div.sk-parallel-item:last-child::after {align-self: flex-start;width: 50%;}#sk-container-id-1 div.sk-parallel-item:only-child::after {width: 0;}#sk-container-id-1 div.sk-dashed-wrapped {border: 1px dashed gray;margin: 0 0.4em 0.5em 0.4em;box-sizing: border-box;padding-bottom: 0.4em;background-color: white;}#sk-container-id-1 div.sk-label label {font-family: monospace;font-weight: bold;display: inline-block;line-height: 1.2em;}#sk-container-id-1 div.sk-label-container {text-align: center;}#sk-container-id-1 div.sk-container {/* jupyter's `normalize.less` sets `[hidden] { display: none; }` but bootstrap.min.css set `[hidden] { display: none !important; }` so we also need the `!important` here to be able to override the default hidden behavior on the sphinx rendered scikit-learn.org. See: https://github.com/scikit-learn/scikit-learn/issues/21755 */display: inline-block !important;position: relative;}#sk-container-id-1 div.sk-text-repr-fallback {display: none;}</style><div id=\"sk-container-id-1\" class=\"sk-top-container\"><div class=\"sk-text-repr-fallback\"><pre>RandomForestClassifier()</pre><b>In a Jupyter environment, please rerun this cell to show the HTML representation or trust the notebook. <br />On GitHub, the HTML representation is unable to render, please try loading this page with nbviewer.org.</b></div><div class=\"sk-container\" hidden><div class=\"sk-item\"><div class=\"sk-estimator sk-toggleable\"><input class=\"sk-toggleable__control sk-hidden--visually\" id=\"sk-estimator-id-1\" type=\"checkbox\" checked><label for=\"sk-estimator-id-1\" class=\"sk-toggleable__label sk-toggleable__label-arrow\">RandomForestClassifier</label><div class=\"sk-toggleable__content\"><pre>RandomForestClassifier()</pre></div></div></div></div></div>"
            ],
            "text/plain": [
              "RandomForestClassifier()"
            ]
          },
          "execution_count": 12,
          "metadata": {},
          "output_type": "execute_result"
        }
      ],
      "source": [
        "rf = RandomForestClassifier()\n",
        "\n",
        "#Fit the Model\n",
        "rf.fit(x_train , y_train)"
      ]
    },
    {
      "cell_type": "code",
      "execution_count": null,
      "metadata": {
        "id": "Sed0_Lt461Ts"
      },
      "outputs": [],
      "source": [
        "y_hat_train_rf = rf.predict(x_train)\n",
        "y_hat_test_rf = rf.predict(x_test)"
      ]
    },
    {
      "cell_type": "code",
      "execution_count": null,
      "metadata": {
        "colab": {
          "base_uri": "https://localhost:8080/"
        },
        "id": "AOw17P6F6d9V",
        "outputId": "04893ead-e821-4b8e-8864-5870917ad3fa"
      },
      "outputs": [
        {
          "name": "stdout",
          "output_type": "stream",
          "text": [
            "The Accuracy of the Model is: 1.0\n",
            "[[3336    0    0    0    0    0    0    0    0    0]\n",
            " [   0 3738    0    0    0    0    0    0    0    0]\n",
            " [   0    0 3321    0    0    0    0    0    0    0]\n",
            " [   0    0    0 3495    0    0    0    0    0    0]\n",
            " [   0    0    0    0 3246    0    0    0    0    0]\n",
            " [   0    0    0    0    0 3022    0    0    0    0]\n",
            " [   0    0    0    0    0    0 3350    0    0    0]\n",
            " [   0    0    0    0    0    0    0 3532    0    0]\n",
            " [   0    0    0    0    0    0    0    0 3227    0]\n",
            " [   0    0    0    0    0    0    0    0    0 3333]]\n",
            "              precision    recall  f1-score   support\n",
            "\n",
            "           0       1.00      1.00      1.00      3336\n",
            "           1       1.00      1.00      1.00      3738\n",
            "           2       1.00      1.00      1.00      3321\n",
            "           3       1.00      1.00      1.00      3495\n",
            "           4       1.00      1.00      1.00      3246\n",
            "           5       1.00      1.00      1.00      3022\n",
            "           6       1.00      1.00      1.00      3350\n",
            "           7       1.00      1.00      1.00      3532\n",
            "           8       1.00      1.00      1.00      3227\n",
            "           9       1.00      1.00      1.00      3333\n",
            "\n",
            "    accuracy                           1.00     33600\n",
            "   macro avg       1.00      1.00      1.00     33600\n",
            "weighted avg       1.00      1.00      1.00     33600\n",
            "\n"
          ]
        }
      ],
      "source": [
        "model_eval(y_train , y_hat_train_rf)"
      ]
    },
    {
      "cell_type": "code",
      "execution_count": null,
      "metadata": {
        "colab": {
          "base_uri": "https://localhost:8080/"
        },
        "id": "H1vSjky56pQi",
        "outputId": "a83d6d2b-c61b-4dd1-97be-af86f7af7d3c"
      },
      "outputs": [
        {
          "name": "stdout",
          "output_type": "stream",
          "text": [
            "The Accuracy of the Model is: 0.97\n",
            "[[785   0   0   0   2   1   2   0   5   1]\n",
            " [  0 930   4   4   3   1   1   2   1   0]\n",
            " [  2   2 822   1   8   0   6   7   8   0]\n",
            " [  2   0  11 819   0  10   2   2   9   1]\n",
            " [  0   0   1   1 816   0   4   1   0   3]\n",
            " [  2   3   0   9   1 742   5   1   7   3]\n",
            " [  4   2   1   0   2   5 769   0   3   1]\n",
            " [  0   3  10   2   7   1   0 840   0   6]\n",
            " [  0   9   8   8   6   8   3   0 782  12]\n",
            " [  2   1   3  15  10   3   0   8   5 808]]\n",
            "              precision    recall  f1-score   support\n",
            "\n",
            "           0       0.98      0.99      0.99       796\n",
            "           1       0.98      0.98      0.98       946\n",
            "           2       0.96      0.96      0.96       856\n",
            "           3       0.95      0.96      0.96       856\n",
            "           4       0.95      0.99      0.97       826\n",
            "           5       0.96      0.96      0.96       773\n",
            "           6       0.97      0.98      0.97       787\n",
            "           7       0.98      0.97      0.97       869\n",
            "           8       0.95      0.94      0.94       836\n",
            "           9       0.97      0.95      0.96       855\n",
            "\n",
            "    accuracy                           0.97      8400\n",
            "   macro avg       0.97      0.97      0.97      8400\n",
            "weighted avg       0.97      0.97      0.97      8400\n",
            "\n"
          ]
        }
      ],
      "source": [
        "model_eval(y_test , y_hat_test_rf)"
      ]
    },
    {
      "cell_type": "markdown",
      "metadata": {
        "id": "Ya6OHz9J7Sat"
      },
      "source": [
        "# Gradient Boosting Classifier"
      ]
    },
    {
      "cell_type": "code",
      "execution_count": null,
      "metadata": {
        "colab": {
          "background_save": true
        },
        "id": "mzQNButU6xQ0",
        "outputId": "d5b49ea3-b416-42a8-c474-b7d2d397ba39"
      },
      "outputs": [
        {
          "data": {
            "text/html": [
              "<style>#sk-container-id-2 {color: black;}#sk-container-id-2 pre{padding: 0;}#sk-container-id-2 div.sk-toggleable {background-color: white;}#sk-container-id-2 label.sk-toggleable__label {cursor: pointer;display: block;width: 100%;margin-bottom: 0;padding: 0.3em;box-sizing: border-box;text-align: center;}#sk-container-id-2 label.sk-toggleable__label-arrow:before {content: \"▸\";float: left;margin-right: 0.25em;color: #696969;}#sk-container-id-2 label.sk-toggleable__label-arrow:hover:before {color: black;}#sk-container-id-2 div.sk-estimator:hover label.sk-toggleable__label-arrow:before {color: black;}#sk-container-id-2 div.sk-toggleable__content {max-height: 0;max-width: 0;overflow: hidden;text-align: left;background-color: #f0f8ff;}#sk-container-id-2 div.sk-toggleable__content pre {margin: 0.2em;color: black;border-radius: 0.25em;background-color: #f0f8ff;}#sk-container-id-2 input.sk-toggleable__control:checked~div.sk-toggleable__content {max-height: 200px;max-width: 100%;overflow: auto;}#sk-container-id-2 input.sk-toggleable__control:checked~label.sk-toggleable__label-arrow:before {content: \"▾\";}#sk-container-id-2 div.sk-estimator input.sk-toggleable__control:checked~label.sk-toggleable__label {background-color: #d4ebff;}#sk-container-id-2 div.sk-label input.sk-toggleable__control:checked~label.sk-toggleable__label {background-color: #d4ebff;}#sk-container-id-2 input.sk-hidden--visually {border: 0;clip: rect(1px 1px 1px 1px);clip: rect(1px, 1px, 1px, 1px);height: 1px;margin: -1px;overflow: hidden;padding: 0;position: absolute;width: 1px;}#sk-container-id-2 div.sk-estimator {font-family: monospace;background-color: #f0f8ff;border: 1px dotted black;border-radius: 0.25em;box-sizing: border-box;margin-bottom: 0.5em;}#sk-container-id-2 div.sk-estimator:hover {background-color: #d4ebff;}#sk-container-id-2 div.sk-parallel-item::after {content: \"\";width: 100%;border-bottom: 1px solid gray;flex-grow: 1;}#sk-container-id-2 div.sk-label:hover label.sk-toggleable__label {background-color: #d4ebff;}#sk-container-id-2 div.sk-serial::before {content: \"\";position: absolute;border-left: 1px solid gray;box-sizing: border-box;top: 0;bottom: 0;left: 50%;z-index: 0;}#sk-container-id-2 div.sk-serial {display: flex;flex-direction: column;align-items: center;background-color: white;padding-right: 0.2em;padding-left: 0.2em;position: relative;}#sk-container-id-2 div.sk-item {position: relative;z-index: 1;}#sk-container-id-2 div.sk-parallel {display: flex;align-items: stretch;justify-content: center;background-color: white;position: relative;}#sk-container-id-2 div.sk-item::before, #sk-container-id-2 div.sk-parallel-item::before {content: \"\";position: absolute;border-left: 1px solid gray;box-sizing: border-box;top: 0;bottom: 0;left: 50%;z-index: -1;}#sk-container-id-2 div.sk-parallel-item {display: flex;flex-direction: column;z-index: 1;position: relative;background-color: white;}#sk-container-id-2 div.sk-parallel-item:first-child::after {align-self: flex-end;width: 50%;}#sk-container-id-2 div.sk-parallel-item:last-child::after {align-self: flex-start;width: 50%;}#sk-container-id-2 div.sk-parallel-item:only-child::after {width: 0;}#sk-container-id-2 div.sk-dashed-wrapped {border: 1px dashed gray;margin: 0 0.4em 0.5em 0.4em;box-sizing: border-box;padding-bottom: 0.4em;background-color: white;}#sk-container-id-2 div.sk-label label {font-family: monospace;font-weight: bold;display: inline-block;line-height: 1.2em;}#sk-container-id-2 div.sk-label-container {text-align: center;}#sk-container-id-2 div.sk-container {/* jupyter's `normalize.less` sets `[hidden] { display: none; }` but bootstrap.min.css set `[hidden] { display: none !important; }` so we also need the `!important` here to be able to override the default hidden behavior on the sphinx rendered scikit-learn.org. See: https://github.com/scikit-learn/scikit-learn/issues/21755 */display: inline-block !important;position: relative;}#sk-container-id-2 div.sk-text-repr-fallback {display: none;}</style><div id=\"sk-container-id-2\" class=\"sk-top-container\"><div class=\"sk-text-repr-fallback\"><pre>GradientBoostingClassifier(n_estimators=50)</pre><b>In a Jupyter environment, please rerun this cell to show the HTML representation or trust the notebook. <br />On GitHub, the HTML representation is unable to render, please try loading this page with nbviewer.org.</b></div><div class=\"sk-container\" hidden><div class=\"sk-item\"><div class=\"sk-estimator sk-toggleable\"><input class=\"sk-toggleable__control sk-hidden--visually\" id=\"sk-estimator-id-2\" type=\"checkbox\" checked><label for=\"sk-estimator-id-2\" class=\"sk-toggleable__label sk-toggleable__label-arrow\">GradientBoostingClassifier</label><div class=\"sk-toggleable__content\"><pre>GradientBoostingClassifier(n_estimators=50)</pre></div></div></div></div></div>"
            ],
            "text/plain": [
              "GradientBoostingClassifier(n_estimators=50)"
            ]
          },
          "execution_count": 16,
          "metadata": {},
          "output_type": "execute_result"
        }
      ],
      "source": [
        "gb = GradientBoostingClassifier(n_estimators = 50)\n",
        "\n",
        "gb.fit(x_train , y_train)"
      ]
    },
    {
      "cell_type": "code",
      "execution_count": null,
      "metadata": {
        "colab": {
          "background_save": true
        },
        "id": "bA4lU5sQ7Z2o"
      },
      "outputs": [],
      "source": [
        "y_hat_train_gb = gb.predict(x_train)\n",
        "y_hat_test_gb = gb.predict(x_test)"
      ]
    },
    {
      "cell_type": "code",
      "execution_count": null,
      "metadata": {
        "colab": {
          "background_save": true
        },
        "id": "ci4xxU-g7buM",
        "outputId": "2c213d9b-ddb4-468e-e65f-66bff4ce13b0"
      },
      "outputs": [
        {
          "name": "stdout",
          "output_type": "stream",
          "text": [
            "The Accuracy of the Model is: 0.94\n",
            "[[3267    0    4    6    5    3   13    2   35    1]\n",
            " [   1 3670   10   14    5    4   11    5   14    4]\n",
            " [  21   14 3094   44   31    4   14   40   44   15]\n",
            " [   8   21   63 3163    7   74    7   40   71   41]\n",
            " [   7    9   13    3 3038    6   17   10   20  123]\n",
            " [  35   15    8   90   20 2738   41    6   38   31]\n",
            " [  27    5    6    2   25   60 3191    2   32    0]\n",
            " [  13   22   48   15   29    7    0 3300    9   89]\n",
            " [  12   37   19   67   12   27   12    8 2970   63]\n",
            " [  15   12    9   44   97   14    1   78   30 3033]]\n",
            "              precision    recall  f1-score   support\n",
            "\n",
            "           0       0.96      0.98      0.97      3336\n",
            "           1       0.96      0.98      0.97      3738\n",
            "           2       0.95      0.93      0.94      3321\n",
            "           3       0.92      0.91      0.91      3495\n",
            "           4       0.93      0.94      0.93      3246\n",
            "           5       0.93      0.91      0.92      3022\n",
            "           6       0.96      0.95      0.96      3350\n",
            "           7       0.95      0.93      0.94      3532\n",
            "           8       0.91      0.92      0.92      3227\n",
            "           9       0.89      0.91      0.90      3333\n",
            "\n",
            "    accuracy                           0.94     33600\n",
            "   macro avg       0.94      0.94      0.94     33600\n",
            "weighted avg       0.94      0.94      0.94     33600\n",
            "\n"
          ]
        }
      ],
      "source": [
        "model_eval(y_train , y_hat_train_gb)"
      ]
    },
    {
      "cell_type": "code",
      "execution_count": null,
      "metadata": {
        "colab": {
          "background_save": true
        },
        "id": "cWQSUTBP7eU7",
        "outputId": "a8bb8d97-4252-4646-e3af-8579345318cd"
      },
      "outputs": [
        {
          "name": "stdout",
          "output_type": "stream",
          "text": [
            "The Accuracy of the Model is: 0.92\n",
            "[[773   0   0   3   3   3   1   0  12   1]\n",
            " [  0 925   6   1   3   0   6   1   3   1]\n",
            " [  9   5 778   6  16   2   9  10  21   0]\n",
            " [  5   1  13 774   0  23   6   6  16  12]\n",
            " [  1   4   4   2 788   0   4   2   4  17]\n",
            " [  6   5   2  23  10 673  12   2  21  19]\n",
            " [  9   4   3   0   7  17 735   1  11   0]\n",
            " [  2   3  11   3  16   1   0 803   2  28]\n",
            " [  3  18   9  21   8  16   6   1 730  24]\n",
            " [  4   0   1  15  24   5   0  23   8 775]]\n",
            "              precision    recall  f1-score   support\n",
            "\n",
            "           0       0.95      0.97      0.96       796\n",
            "           1       0.96      0.98      0.97       946\n",
            "           2       0.94      0.91      0.92       856\n",
            "           3       0.91      0.90      0.91       856\n",
            "           4       0.90      0.95      0.93       826\n",
            "           5       0.91      0.87      0.89       773\n",
            "           6       0.94      0.93      0.94       787\n",
            "           7       0.95      0.92      0.93       869\n",
            "           8       0.88      0.87      0.88       836\n",
            "           9       0.88      0.91      0.89       855\n",
            "\n",
            "    accuracy                           0.92      8400\n",
            "   macro avg       0.92      0.92      0.92      8400\n",
            "weighted avg       0.92      0.92      0.92      8400\n",
            "\n"
          ]
        }
      ],
      "source": [
        "model_eval(y_test , y_hat_test_gb)"
      ]
    },
    {
      "cell_type": "markdown",
      "metadata": {
        "id": "yZFHiyKK3i1b"
      },
      "source": [
        "# Single Layer Perceptron"
      ]
    },
    {
      "cell_type": "code",
      "execution_count": null,
      "metadata": {
        "colab": {
          "background_save": true
        },
        "id": "w3s1iB5U7gmr",
        "outputId": "fcfaa3a8-cd53-4697-9d1b-caf5877ac42e"
      },
      "outputs": [
        {
          "data": {
            "text/html": [
              "<style>#sk-container-id-3 {color: black;}#sk-container-id-3 pre{padding: 0;}#sk-container-id-3 div.sk-toggleable {background-color: white;}#sk-container-id-3 label.sk-toggleable__label {cursor: pointer;display: block;width: 100%;margin-bottom: 0;padding: 0.3em;box-sizing: border-box;text-align: center;}#sk-container-id-3 label.sk-toggleable__label-arrow:before {content: \"▸\";float: left;margin-right: 0.25em;color: #696969;}#sk-container-id-3 label.sk-toggleable__label-arrow:hover:before {color: black;}#sk-container-id-3 div.sk-estimator:hover label.sk-toggleable__label-arrow:before {color: black;}#sk-container-id-3 div.sk-toggleable__content {max-height: 0;max-width: 0;overflow: hidden;text-align: left;background-color: #f0f8ff;}#sk-container-id-3 div.sk-toggleable__content pre {margin: 0.2em;color: black;border-radius: 0.25em;background-color: #f0f8ff;}#sk-container-id-3 input.sk-toggleable__control:checked~div.sk-toggleable__content {max-height: 200px;max-width: 100%;overflow: auto;}#sk-container-id-3 input.sk-toggleable__control:checked~label.sk-toggleable__label-arrow:before {content: \"▾\";}#sk-container-id-3 div.sk-estimator input.sk-toggleable__control:checked~label.sk-toggleable__label {background-color: #d4ebff;}#sk-container-id-3 div.sk-label input.sk-toggleable__control:checked~label.sk-toggleable__label {background-color: #d4ebff;}#sk-container-id-3 input.sk-hidden--visually {border: 0;clip: rect(1px 1px 1px 1px);clip: rect(1px, 1px, 1px, 1px);height: 1px;margin: -1px;overflow: hidden;padding: 0;position: absolute;width: 1px;}#sk-container-id-3 div.sk-estimator {font-family: monospace;background-color: #f0f8ff;border: 1px dotted black;border-radius: 0.25em;box-sizing: border-box;margin-bottom: 0.5em;}#sk-container-id-3 div.sk-estimator:hover {background-color: #d4ebff;}#sk-container-id-3 div.sk-parallel-item::after {content: \"\";width: 100%;border-bottom: 1px solid gray;flex-grow: 1;}#sk-container-id-3 div.sk-label:hover label.sk-toggleable__label {background-color: #d4ebff;}#sk-container-id-3 div.sk-serial::before {content: \"\";position: absolute;border-left: 1px solid gray;box-sizing: border-box;top: 0;bottom: 0;left: 50%;z-index: 0;}#sk-container-id-3 div.sk-serial {display: flex;flex-direction: column;align-items: center;background-color: white;padding-right: 0.2em;padding-left: 0.2em;position: relative;}#sk-container-id-3 div.sk-item {position: relative;z-index: 1;}#sk-container-id-3 div.sk-parallel {display: flex;align-items: stretch;justify-content: center;background-color: white;position: relative;}#sk-container-id-3 div.sk-item::before, #sk-container-id-3 div.sk-parallel-item::before {content: \"\";position: absolute;border-left: 1px solid gray;box-sizing: border-box;top: 0;bottom: 0;left: 50%;z-index: -1;}#sk-container-id-3 div.sk-parallel-item {display: flex;flex-direction: column;z-index: 1;position: relative;background-color: white;}#sk-container-id-3 div.sk-parallel-item:first-child::after {align-self: flex-end;width: 50%;}#sk-container-id-3 div.sk-parallel-item:last-child::after {align-self: flex-start;width: 50%;}#sk-container-id-3 div.sk-parallel-item:only-child::after {width: 0;}#sk-container-id-3 div.sk-dashed-wrapped {border: 1px dashed gray;margin: 0 0.4em 0.5em 0.4em;box-sizing: border-box;padding-bottom: 0.4em;background-color: white;}#sk-container-id-3 div.sk-label label {font-family: monospace;font-weight: bold;display: inline-block;line-height: 1.2em;}#sk-container-id-3 div.sk-label-container {text-align: center;}#sk-container-id-3 div.sk-container {/* jupyter's `normalize.less` sets `[hidden] { display: none; }` but bootstrap.min.css set `[hidden] { display: none !important; }` so we also need the `!important` here to be able to override the default hidden behavior on the sphinx rendered scikit-learn.org. See: https://github.com/scikit-learn/scikit-learn/issues/21755 */display: inline-block !important;position: relative;}#sk-container-id-3 div.sk-text-repr-fallback {display: none;}</style><div id=\"sk-container-id-3\" class=\"sk-top-container\"><div class=\"sk-text-repr-fallback\"><pre>Perceptron()</pre><b>In a Jupyter environment, please rerun this cell to show the HTML representation or trust the notebook. <br />On GitHub, the HTML representation is unable to render, please try loading this page with nbviewer.org.</b></div><div class=\"sk-container\" hidden><div class=\"sk-item\"><div class=\"sk-estimator sk-toggleable\"><input class=\"sk-toggleable__control sk-hidden--visually\" id=\"sk-estimator-id-3\" type=\"checkbox\" checked><label for=\"sk-estimator-id-3\" class=\"sk-toggleable__label sk-toggleable__label-arrow\">Perceptron</label><div class=\"sk-toggleable__content\"><pre>Perceptron()</pre></div></div></div></div></div>"
            ],
            "text/plain": [
              "Perceptron()"
            ]
          },
          "execution_count": 20,
          "metadata": {},
          "output_type": "execute_result"
        }
      ],
      "source": [
        "per = Perceptron()\n",
        "per.fit(x_train , y_train)"
      ]
    },
    {
      "cell_type": "code",
      "execution_count": null,
      "metadata": {
        "colab": {
          "background_save": true
        },
        "id": "5oC5yFbA8Syy"
      },
      "outputs": [],
      "source": [
        "y_hat_train_per = per.predict(x_train)\n",
        "y_hat_test_per = per.predict(x_test)"
      ]
    },
    {
      "cell_type": "code",
      "execution_count": null,
      "metadata": {
        "colab": {
          "background_save": true
        },
        "id": "_iQuEC488Z8W",
        "outputId": "d323784d-eb00-4e92-8d4c-6920908437a2"
      },
      "outputs": [
        {
          "name": "stdout",
          "output_type": "stream",
          "text": [
            "The Accuracy of the Model is: 0.89\n",
            "[[3245    0    8    3    5    5   35    0   34    1]\n",
            " [   0 3661   13    3    3    2    6    3   42    5]\n",
            " [  13   53 2871   25   31    5  125   32  157    9]\n",
            " [  13   39  131 2889   16   38   57   25  247   40]\n",
            " [   4   14   10    0 3035    7   50    8   54   64]\n",
            " [  28   27   19  193   50 2188  198   11  272   36]\n",
            " [  14    6    2    0   10   16 3288    0   14    0]\n",
            " [  12   22   43    3   48    4    5 3214   39  142]\n",
            " [  18   97   25   36   37   75   51   10 2841   37]\n",
            " [  19   15   21   29  263   41    6  138  137 2664]]\n",
            "              precision    recall  f1-score   support\n",
            "\n",
            "           0       0.96      0.97      0.97      3336\n",
            "           1       0.93      0.98      0.95      3738\n",
            "           2       0.91      0.86      0.89      3321\n",
            "           3       0.91      0.83      0.87      3495\n",
            "           4       0.87      0.93      0.90      3246\n",
            "           5       0.92      0.72      0.81      3022\n",
            "           6       0.86      0.98      0.92      3350\n",
            "           7       0.93      0.91      0.92      3532\n",
            "           8       0.74      0.88      0.80      3227\n",
            "           9       0.89      0.80      0.84      3333\n",
            "\n",
            "    accuracy                           0.89     33600\n",
            "   macro avg       0.89      0.89      0.89     33600\n",
            "weighted avg       0.89      0.89      0.89     33600\n",
            "\n"
          ]
        }
      ],
      "source": [
        "model_eval(y_train , y_hat_train_per)"
      ]
    },
    {
      "cell_type": "code",
      "execution_count": null,
      "metadata": {
        "colab": {
          "background_save": true
        },
        "id": "fijlMGKT8he5",
        "outputId": "ee0d4433-c74b-443c-c0b3-89d61862d317"
      },
      "outputs": [
        {
          "name": "stdout",
          "output_type": "stream",
          "text": [
            "The Accuracy of the Model is: 0.88\n",
            "[[766   0   1   3   4   1  11   0   9   1]\n",
            " [  0 930   3   1   1   0   2   1   8   0]\n",
            " [  6  23 703   8  11   3  41  14  46   1]\n",
            " [  6   4  35 711   4  17  17   6  48   8]\n",
            " [  2   3   8   1 768   2  13   2  12  15]\n",
            " [  3  11   3  49  12 543  47   4  88  13]\n",
            " [  4   1   1   0   2   3 770   1   5   0]\n",
            " [  7   5  12   5  15   4   0 781  15  25]\n",
            " [  6  25   8   8   8  26  22   5 718  10]\n",
            " [  4   4   4  16  55   6   0  45  39 682]]\n",
            "              precision    recall  f1-score   support\n",
            "\n",
            "           0       0.95      0.96      0.96       796\n",
            "           1       0.92      0.98      0.95       946\n",
            "           2       0.90      0.82      0.86       856\n",
            "           3       0.89      0.83      0.86       856\n",
            "           4       0.87      0.93      0.90       826\n",
            "           5       0.90      0.70      0.79       773\n",
            "           6       0.83      0.98      0.90       787\n",
            "           7       0.91      0.90      0.90       869\n",
            "           8       0.73      0.86      0.79       836\n",
            "           9       0.90      0.80      0.85       855\n",
            "\n",
            "    accuracy                           0.88      8400\n",
            "   macro avg       0.88      0.88      0.88      8400\n",
            "weighted avg       0.88      0.88      0.88      8400\n",
            "\n"
          ]
        }
      ],
      "source": [
        "model_eval(y_test , y_hat_test_per)"
      ]
    },
    {
      "cell_type": "markdown",
      "metadata": {
        "id": "1J2VruDyXCqP"
      },
      "source": [
        "# Multi Layer Perceptron"
      ]
    },
    {
      "cell_type": "code",
      "execution_count": null,
      "metadata": {
        "colab": {
          "background_save": true
        },
        "id": "EEJTBWZW8jQ-",
        "outputId": "226d874c-36d2-45d7-f33e-ea52ea23f090"
      },
      "outputs": [
        {
          "name": "stdout",
          "output_type": "stream",
          "text": [
            "Iteration 1, loss = 2.92790823\n",
            "Iteration 2, loss = 0.61130416\n",
            "Iteration 3, loss = 0.38984193\n",
            "Iteration 4, loss = 0.29756884\n",
            "Iteration 5, loss = 0.24079396\n",
            "Iteration 6, loss = 0.19795728\n",
            "Iteration 7, loss = 0.16671323\n",
            "Iteration 8, loss = 0.15004896\n",
            "Iteration 9, loss = 0.13379428\n",
            "Iteration 10, loss = 0.11437175\n",
            "Iteration 11, loss = 0.10237632\n",
            "Iteration 12, loss = 0.08855856\n",
            "Iteration 13, loss = 0.08247361\n",
            "Iteration 14, loss = 0.08460366\n",
            "Iteration 15, loss = 0.07807670\n",
            "Iteration 16, loss = 0.06959152\n",
            "Iteration 17, loss = 0.07807428\n",
            "Iteration 18, loss = 0.07039426\n",
            "Iteration 19, loss = 0.06856918\n",
            "Iteration 20, loss = 0.05882026\n",
            "Iteration 21, loss = 0.05527884\n",
            "Iteration 22, loss = 0.05911925\n",
            "Iteration 23, loss = 0.06163009\n",
            "Iteration 24, loss = 0.05482740\n",
            "Iteration 25, loss = 0.06275743\n",
            "Iteration 26, loss = 0.04681039\n",
            "Iteration 27, loss = 0.04495617\n",
            "Iteration 28, loss = 0.04678297\n",
            "Iteration 29, loss = 0.05041975\n",
            "Iteration 30, loss = 0.04576628\n",
            "Iteration 31, loss = 0.06041460\n",
            "Iteration 32, loss = 0.05824116\n",
            "Iteration 33, loss = 0.03981132\n",
            "Iteration 34, loss = 0.03985220\n",
            "Iteration 35, loss = 0.03616463\n",
            "Iteration 36, loss = 0.03882117\n",
            "Iteration 37, loss = 0.03293678\n",
            "Iteration 38, loss = 0.05160894\n",
            "Iteration 39, loss = 0.03823939\n",
            "Iteration 40, loss = 0.03064696\n",
            "Iteration 41, loss = 0.05314523\n",
            "Iteration 42, loss = 0.04122489\n",
            "Iteration 43, loss = 0.03866956\n",
            "Iteration 44, loss = 0.03742523\n",
            "Iteration 45, loss = 0.02339231\n",
            "Iteration 46, loss = 0.02514126\n",
            "Iteration 47, loss = 0.02148832\n",
            "Iteration 48, loss = 0.04312276\n",
            "Iteration 49, loss = 0.04620768\n",
            "Iteration 50, loss = 0.05080634\n",
            "Iteration 51, loss = 0.02856064\n",
            "Iteration 52, loss = 0.02524505\n",
            "Iteration 53, loss = 0.02417862\n",
            "Iteration 54, loss = 0.02588475\n",
            "Iteration 55, loss = 0.02213422\n",
            "Iteration 56, loss = 0.02180267\n",
            "Iteration 57, loss = 0.02588256\n",
            "Iteration 58, loss = 0.03455569\n",
            "Training loss did not improve more than tol=0.000100 for 10 consecutive epochs. Stopping.\n"
          ]
        },
        {
          "data": {
            "text/html": [
              "<style>#sk-container-id-4 {color: black;}#sk-container-id-4 pre{padding: 0;}#sk-container-id-4 div.sk-toggleable {background-color: white;}#sk-container-id-4 label.sk-toggleable__label {cursor: pointer;display: block;width: 100%;margin-bottom: 0;padding: 0.3em;box-sizing: border-box;text-align: center;}#sk-container-id-4 label.sk-toggleable__label-arrow:before {content: \"▸\";float: left;margin-right: 0.25em;color: #696969;}#sk-container-id-4 label.sk-toggleable__label-arrow:hover:before {color: black;}#sk-container-id-4 div.sk-estimator:hover label.sk-toggleable__label-arrow:before {color: black;}#sk-container-id-4 div.sk-toggleable__content {max-height: 0;max-width: 0;overflow: hidden;text-align: left;background-color: #f0f8ff;}#sk-container-id-4 div.sk-toggleable__content pre {margin: 0.2em;color: black;border-radius: 0.25em;background-color: #f0f8ff;}#sk-container-id-4 input.sk-toggleable__control:checked~div.sk-toggleable__content {max-height: 200px;max-width: 100%;overflow: auto;}#sk-container-id-4 input.sk-toggleable__control:checked~label.sk-toggleable__label-arrow:before {content: \"▾\";}#sk-container-id-4 div.sk-estimator input.sk-toggleable__control:checked~label.sk-toggleable__label {background-color: #d4ebff;}#sk-container-id-4 div.sk-label input.sk-toggleable__control:checked~label.sk-toggleable__label {background-color: #d4ebff;}#sk-container-id-4 input.sk-hidden--visually {border: 0;clip: rect(1px 1px 1px 1px);clip: rect(1px, 1px, 1px, 1px);height: 1px;margin: -1px;overflow: hidden;padding: 0;position: absolute;width: 1px;}#sk-container-id-4 div.sk-estimator {font-family: monospace;background-color: #f0f8ff;border: 1px dotted black;border-radius: 0.25em;box-sizing: border-box;margin-bottom: 0.5em;}#sk-container-id-4 div.sk-estimator:hover {background-color: #d4ebff;}#sk-container-id-4 div.sk-parallel-item::after {content: \"\";width: 100%;border-bottom: 1px solid gray;flex-grow: 1;}#sk-container-id-4 div.sk-label:hover label.sk-toggleable__label {background-color: #d4ebff;}#sk-container-id-4 div.sk-serial::before {content: \"\";position: absolute;border-left: 1px solid gray;box-sizing: border-box;top: 0;bottom: 0;left: 50%;z-index: 0;}#sk-container-id-4 div.sk-serial {display: flex;flex-direction: column;align-items: center;background-color: white;padding-right: 0.2em;padding-left: 0.2em;position: relative;}#sk-container-id-4 div.sk-item {position: relative;z-index: 1;}#sk-container-id-4 div.sk-parallel {display: flex;align-items: stretch;justify-content: center;background-color: white;position: relative;}#sk-container-id-4 div.sk-item::before, #sk-container-id-4 div.sk-parallel-item::before {content: \"\";position: absolute;border-left: 1px solid gray;box-sizing: border-box;top: 0;bottom: 0;left: 50%;z-index: -1;}#sk-container-id-4 div.sk-parallel-item {display: flex;flex-direction: column;z-index: 1;position: relative;background-color: white;}#sk-container-id-4 div.sk-parallel-item:first-child::after {align-self: flex-end;width: 50%;}#sk-container-id-4 div.sk-parallel-item:last-child::after {align-self: flex-start;width: 50%;}#sk-container-id-4 div.sk-parallel-item:only-child::after {width: 0;}#sk-container-id-4 div.sk-dashed-wrapped {border: 1px dashed gray;margin: 0 0.4em 0.5em 0.4em;box-sizing: border-box;padding-bottom: 0.4em;background-color: white;}#sk-container-id-4 div.sk-label label {font-family: monospace;font-weight: bold;display: inline-block;line-height: 1.2em;}#sk-container-id-4 div.sk-label-container {text-align: center;}#sk-container-id-4 div.sk-container {/* jupyter's `normalize.less` sets `[hidden] { display: none; }` but bootstrap.min.css set `[hidden] { display: none !important; }` so we also need the `!important` here to be able to override the default hidden behavior on the sphinx rendered scikit-learn.org. See: https://github.com/scikit-learn/scikit-learn/issues/21755 */display: inline-block !important;position: relative;}#sk-container-id-4 div.sk-text-repr-fallback {display: none;}</style><div id=\"sk-container-id-4\" class=\"sk-top-container\"><div class=\"sk-text-repr-fallback\"><pre>MLPClassifier(hidden_layer_sizes=(64, 64, 64), random_state=10, verbose=1)</pre><b>In a Jupyter environment, please rerun this cell to show the HTML representation or trust the notebook. <br />On GitHub, the HTML representation is unable to render, please try loading this page with nbviewer.org.</b></div><div class=\"sk-container\" hidden><div class=\"sk-item\"><div class=\"sk-estimator sk-toggleable\"><input class=\"sk-toggleable__control sk-hidden--visually\" id=\"sk-estimator-id-4\" type=\"checkbox\" checked><label for=\"sk-estimator-id-4\" class=\"sk-toggleable__label sk-toggleable__label-arrow\">MLPClassifier</label><div class=\"sk-toggleable__content\"><pre>MLPClassifier(hidden_layer_sizes=(64, 64, 64), random_state=10, verbose=1)</pre></div></div></div></div></div>"
            ],
            "text/plain": [
              "MLPClassifier(hidden_layer_sizes=(64, 64, 64), random_state=10, verbose=1)"
            ]
          },
          "execution_count": 24,
          "metadata": {},
          "output_type": "execute_result"
        }
      ],
      "source": [
        "mlp = MLPClassifier(hidden_layer_sizes = (64 , 64 , 64) , random_state = 10 , verbose = 1)\n",
        "mlp.fit(x_train , y_train)"
      ]
    },
    {
      "cell_type": "code",
      "execution_count": null,
      "metadata": {
        "colab": {
          "background_save": true
        },
        "id": "4r9kUEFwdukd"
      },
      "outputs": [],
      "source": [
        "y_hat_train_mlp = mlp.predict(x_train)\n",
        "y_hat_test_mlp = mlp.predict(x_test)"
      ]
    },
    {
      "cell_type": "code",
      "execution_count": null,
      "metadata": {
        "colab": {
          "background_save": true
        },
        "id": "0oFpSSTBeIL0",
        "outputId": "cf26f5d9-b644-4e4c-d164-e9dc85d7b6df"
      },
      "outputs": [
        {
          "name": "stdout",
          "output_type": "stream",
          "text": [
            "The Accuracy of the Model is: 0.99\n",
            "[[3327    1    0    0    1    1    2    1    3    0]\n",
            " [   0 3736    0    0    0    0    1    1    0    0]\n",
            " [   0    1 3315    1    0    0    0    2    2    0]\n",
            " [   0    1    9 3462    0    0    0    9   12    2]\n",
            " [   1    1    7    2 3215    0    1    1    4   14]\n",
            " [   0    0    0    8    1 3000    2    0   10    1]\n",
            " [   3    0    1    1    2    1 3339    0    3    0]\n",
            " [   0    2    3    0    2    0    0 3515    0   10]\n",
            " [   5    4    4    8    1    0    0    1 3204    0]\n",
            " [   0    1    9    5   11    1    0   13   10 3283]]\n",
            "              precision    recall  f1-score   support\n",
            "\n",
            "           0       1.00      1.00      1.00      3336\n",
            "           1       1.00      1.00      1.00      3738\n",
            "           2       0.99      1.00      0.99      3321\n",
            "           3       0.99      0.99      0.99      3495\n",
            "           4       0.99      0.99      0.99      3246\n",
            "           5       1.00      0.99      1.00      3022\n",
            "           6       1.00      1.00      1.00      3350\n",
            "           7       0.99      1.00      0.99      3532\n",
            "           8       0.99      0.99      0.99      3227\n",
            "           9       0.99      0.98      0.99      3333\n",
            "\n",
            "    accuracy                           0.99     33600\n",
            "   macro avg       0.99      0.99      0.99     33600\n",
            "weighted avg       0.99      0.99      0.99     33600\n",
            "\n"
          ]
        }
      ],
      "source": [
        "model_eval(y_train , y_hat_train_mlp)"
      ]
    },
    {
      "cell_type": "code",
      "execution_count": null,
      "metadata": {
        "colab": {
          "background_save": true
        },
        "id": "Kv0qxDmffqCe",
        "outputId": "c4a26258-3e73-451b-b867-8fc53a400aaa"
      },
      "outputs": [
        {
          "name": "stdout",
          "output_type": "stream",
          "text": [
            "The Accuracy of the Model is: 0.96\n",
            "[[780   1   1   0   0   1   5   1   4   3]\n",
            " [  0 934   3   0   2   2   0   2   3   0]\n",
            " [  1   0 830   2   3   0   5   7   8   0]\n",
            " [  2   2  15 809   0   8   0   2  15   3]\n",
            " [  1   1   3   1 795   1   4   1   3  16]\n",
            " [  6   1   2  15   2 721  12   0  12   2]\n",
            " [  8   1   0   0   0   1 773   0   4   0]\n",
            " [  0   3  12   4   6   2   0 836   0   6]\n",
            " [  3   7  15  11   1   6   5   3 781   4]\n",
            " [  1   0   4  10  17   2   0  15   5 801]]\n",
            "              precision    recall  f1-score   support\n",
            "\n",
            "           0       0.97      0.98      0.98       796\n",
            "           1       0.98      0.99      0.99       946\n",
            "           2       0.94      0.97      0.95       856\n",
            "           3       0.95      0.95      0.95       856\n",
            "           4       0.96      0.96      0.96       826\n",
            "           5       0.97      0.93      0.95       773\n",
            "           6       0.96      0.98      0.97       787\n",
            "           7       0.96      0.96      0.96       869\n",
            "           8       0.94      0.93      0.93       836\n",
            "           9       0.96      0.94      0.95       855\n",
            "\n",
            "    accuracy                           0.96      8400\n",
            "   macro avg       0.96      0.96      0.96      8400\n",
            "weighted avg       0.96      0.96      0.96      8400\n",
            "\n"
          ]
        }
      ],
      "source": [
        "model_eval(y_test , y_hat_test_mlp)"
      ]
    },
    {
      "cell_type": "markdown",
      "metadata": {
        "id": "rhE-h8GfC8Ra"
      },
      "source": [
        "# Approach to Keras and Tensorflow"
      ]
    },
    {
      "cell_type": "markdown",
      "metadata": {
        "id": "eJ4KGpr0DGcz"
      },
      "source": [
        "\n",
        "1. Load the dataset and Libraries\n",
        "2. Declare the model\n",
        "  * Sequential: Sequence of layers\n",
        "  * Functional: Multi Modal/ Transfer Learning\n",
        "3. Declare the Layers\n",
        "  * Dense , Dropout\n",
        "  * Number of Neurons , Act Function\n",
        "4. Compile the model\n",
        "  * Optimizer (SGD , Adam)\n",
        "  * Loss Function (Cross Entropy , MSE , RMSE)\n",
        "  * Metrics (Accuracy , F1 , Precision , Recall)\n",
        "5. Fit the model\n",
        "  * Pass X Train and Y Train\n",
        "  * Pass X Test and Y Test\n",
        "  * Epochs\n",
        "  * Batch Size\n",
        "6. Predict and Evaluate the model\n"
      ]
    },
    {
      "cell_type": "markdown",
      "metadata": {
        "id": "_BOCjUhSEZQs"
      },
      "source": [
        "## Import the Libraries"
      ]
    },
    {
      "cell_type": "code",
      "execution_count": null,
      "metadata": {
        "colab": {
          "background_save": true
        },
        "id": "t0kOD9K0frYd"
      },
      "outputs": [],
      "source": [
        "from keras import Sequential\n",
        "from keras.layers import Dense , Dropout\n",
        "from keras.utils import to_categorical\n",
        "from keras.optimizers import SGD , Adam"
      ]
    },
    {
      "cell_type": "markdown",
      "metadata": {
        "id": "lCfBS2mtHYpB"
      },
      "source": [
        "## One Hot Encode the Output"
      ]
    },
    {
      "cell_type": "code",
      "execution_count": null,
      "metadata": {
        "colab": {
          "background_save": true
        },
        "id": "EwH0HmQXFEDN"
      },
      "outputs": [],
      "source": [
        "y_train_ohe = to_categorical(y_train)\n",
        "y_test_ohe = to_categorical(y_test)"
      ]
    },
    {
      "cell_type": "markdown",
      "metadata": {
        "id": "qJN5uQHIJlkT"
      },
      "source": [
        "## Declare Models and Layers"
      ]
    },
    {
      "cell_type": "code",
      "execution_count": null,
      "metadata": {
        "colab": {
          "background_save": true
        },
        "id": "g_tbjYzpHhfx",
        "outputId": "2785679d-e152-4e13-c8de-58b62b56bce7"
      },
      "outputs": [
        {
          "name": "stderr",
          "output_type": "stream",
          "text": [
            "/usr/local/lib/python3.10/dist-packages/keras/src/layers/core/dense.py:87: UserWarning: Do not pass an `input_shape`/`input_dim` argument to a layer. When using Sequential models, prefer using an `Input(shape)` object as the first layer in the model instead.\n",
            "  super().__init__(activity_regularizer=activity_regularizer, **kwargs)\n"
          ]
        }
      ],
      "source": [
        "model = Sequential()\n",
        "model.add(Dense(256 , activation = 'relu' , input_shape = (784,))) # Layer 1 and Input Layer\n",
        "model.add(Dropout(0.2)) #Dropout Layer\n",
        "model.add(Dense(256 , activation = 'relu')) # Layer 2\n",
        "model.add(Dropout(0.2)) #Dropout Layer\n",
        "model.add(Dense(256 , activation = 'relu')) # Layer 3\n",
        "model.add(Dropout(0.2)) #Dropout Layer\n",
        "model.add(Dense(10 , activation = 'softmax')) # Output Layer"
      ]
    },
    {
      "cell_type": "code",
      "execution_count": null,
      "metadata": {
        "colab": {
          "background_save": true
        },
        "id": "2vf3iIlHOeCE",
        "outputId": "806731b4-8025-4563-c735-44854c41edbb"
      },
      "outputs": [
        {
          "data": {
            "text/html": [
              "<pre style=\"white-space:pre;overflow-x:auto;line-height:normal;font-family:Menlo,'DejaVu Sans Mono',consolas,'Courier New',monospace\"><span style=\"font-weight: bold\">Model: \"sequential\"</span>\n",
              "</pre>\n"
            ],
            "text/plain": [
              "\u001b[1mModel: \"sequential\"\u001b[0m\n"
            ]
          },
          "metadata": {},
          "output_type": "display_data"
        },
        {
          "data": {
            "text/html": [
              "<pre style=\"white-space:pre;overflow-x:auto;line-height:normal;font-family:Menlo,'DejaVu Sans Mono',consolas,'Courier New',monospace\">┏━━━━━━━━━━━━━━━━━━━━━━━━━━━━━━━━━━━━━━┳━━━━━━━━━━━━━━━━━━━━━━━━━━━━━┳━━━━━━━━━━━━━━━━━┓\n",
              "┃<span style=\"font-weight: bold\"> Layer (type)                         </span>┃<span style=\"font-weight: bold\"> Output Shape                </span>┃<span style=\"font-weight: bold\">         Param # </span>┃\n",
              "┡━━━━━━━━━━━━━━━━━━━━━━━━━━━━━━━━━━━━━━╇━━━━━━━━━━━━━━━━━━━━━━━━━━━━━╇━━━━━━━━━━━━━━━━━┩\n",
              "│ dense (<span style=\"color: #0087ff; text-decoration-color: #0087ff\">Dense</span>)                        │ (<span style=\"color: #00d7ff; text-decoration-color: #00d7ff\">None</span>, <span style=\"color: #00af00; text-decoration-color: #00af00\">256</span>)                 │         <span style=\"color: #00af00; text-decoration-color: #00af00\">200,960</span> │\n",
              "├──────────────────────────────────────┼─────────────────────────────┼─────────────────┤\n",
              "│ dropout (<span style=\"color: #0087ff; text-decoration-color: #0087ff\">Dropout</span>)                    │ (<span style=\"color: #00d7ff; text-decoration-color: #00d7ff\">None</span>, <span style=\"color: #00af00; text-decoration-color: #00af00\">256</span>)                 │               <span style=\"color: #00af00; text-decoration-color: #00af00\">0</span> │\n",
              "├──────────────────────────────────────┼─────────────────────────────┼─────────────────┤\n",
              "│ dense_1 (<span style=\"color: #0087ff; text-decoration-color: #0087ff\">Dense</span>)                      │ (<span style=\"color: #00d7ff; text-decoration-color: #00d7ff\">None</span>, <span style=\"color: #00af00; text-decoration-color: #00af00\">256</span>)                 │          <span style=\"color: #00af00; text-decoration-color: #00af00\">65,792</span> │\n",
              "├──────────────────────────────────────┼─────────────────────────────┼─────────────────┤\n",
              "│ dropout_1 (<span style=\"color: #0087ff; text-decoration-color: #0087ff\">Dropout</span>)                  │ (<span style=\"color: #00d7ff; text-decoration-color: #00d7ff\">None</span>, <span style=\"color: #00af00; text-decoration-color: #00af00\">256</span>)                 │               <span style=\"color: #00af00; text-decoration-color: #00af00\">0</span> │\n",
              "├──────────────────────────────────────┼─────────────────────────────┼─────────────────┤\n",
              "│ dense_2 (<span style=\"color: #0087ff; text-decoration-color: #0087ff\">Dense</span>)                      │ (<span style=\"color: #00d7ff; text-decoration-color: #00d7ff\">None</span>, <span style=\"color: #00af00; text-decoration-color: #00af00\">256</span>)                 │          <span style=\"color: #00af00; text-decoration-color: #00af00\">65,792</span> │\n",
              "├──────────────────────────────────────┼─────────────────────────────┼─────────────────┤\n",
              "│ dropout_2 (<span style=\"color: #0087ff; text-decoration-color: #0087ff\">Dropout</span>)                  │ (<span style=\"color: #00d7ff; text-decoration-color: #00d7ff\">None</span>, <span style=\"color: #00af00; text-decoration-color: #00af00\">256</span>)                 │               <span style=\"color: #00af00; text-decoration-color: #00af00\">0</span> │\n",
              "├──────────────────────────────────────┼─────────────────────────────┼─────────────────┤\n",
              "│ dense_3 (<span style=\"color: #0087ff; text-decoration-color: #0087ff\">Dense</span>)                      │ (<span style=\"color: #00d7ff; text-decoration-color: #00d7ff\">None</span>, <span style=\"color: #00af00; text-decoration-color: #00af00\">10</span>)                  │           <span style=\"color: #00af00; text-decoration-color: #00af00\">2,570</span> │\n",
              "└──────────────────────────────────────┴─────────────────────────────┴─────────────────┘\n",
              "</pre>\n"
            ],
            "text/plain": [
              "┏━━━━━━━━━━━━━━━━━━━━━━━━━━━━━━━━━━━━━━┳━━━━━━━━━━━━━━━━━━━━━━━━━━━━━┳━━━━━━━━━━━━━━━━━┓\n",
              "┃\u001b[1m \u001b[0m\u001b[1mLayer (type)                        \u001b[0m\u001b[1m \u001b[0m┃\u001b[1m \u001b[0m\u001b[1mOutput Shape               \u001b[0m\u001b[1m \u001b[0m┃\u001b[1m \u001b[0m\u001b[1m        Param #\u001b[0m\u001b[1m \u001b[0m┃\n",
              "┡━━━━━━━━━━━━━━━━━━━━━━━━━━━━━━━━━━━━━━╇━━━━━━━━━━━━━━━━━━━━━━━━━━━━━╇━━━━━━━━━━━━━━━━━┩\n",
              "│ dense (\u001b[38;5;33mDense\u001b[0m)                        │ (\u001b[38;5;45mNone\u001b[0m, \u001b[38;5;34m256\u001b[0m)                 │         \u001b[38;5;34m200,960\u001b[0m │\n",
              "├──────────────────────────────────────┼─────────────────────────────┼─────────────────┤\n",
              "│ dropout (\u001b[38;5;33mDropout\u001b[0m)                    │ (\u001b[38;5;45mNone\u001b[0m, \u001b[38;5;34m256\u001b[0m)                 │               \u001b[38;5;34m0\u001b[0m │\n",
              "├──────────────────────────────────────┼─────────────────────────────┼─────────────────┤\n",
              "│ dense_1 (\u001b[38;5;33mDense\u001b[0m)                      │ (\u001b[38;5;45mNone\u001b[0m, \u001b[38;5;34m256\u001b[0m)                 │          \u001b[38;5;34m65,792\u001b[0m │\n",
              "├──────────────────────────────────────┼─────────────────────────────┼─────────────────┤\n",
              "│ dropout_1 (\u001b[38;5;33mDropout\u001b[0m)                  │ (\u001b[38;5;45mNone\u001b[0m, \u001b[38;5;34m256\u001b[0m)                 │               \u001b[38;5;34m0\u001b[0m │\n",
              "├──────────────────────────────────────┼─────────────────────────────┼─────────────────┤\n",
              "│ dense_2 (\u001b[38;5;33mDense\u001b[0m)                      │ (\u001b[38;5;45mNone\u001b[0m, \u001b[38;5;34m256\u001b[0m)                 │          \u001b[38;5;34m65,792\u001b[0m │\n",
              "├──────────────────────────────────────┼─────────────────────────────┼─────────────────┤\n",
              "│ dropout_2 (\u001b[38;5;33mDropout\u001b[0m)                  │ (\u001b[38;5;45mNone\u001b[0m, \u001b[38;5;34m256\u001b[0m)                 │               \u001b[38;5;34m0\u001b[0m │\n",
              "├──────────────────────────────────────┼─────────────────────────────┼─────────────────┤\n",
              "│ dense_3 (\u001b[38;5;33mDense\u001b[0m)                      │ (\u001b[38;5;45mNone\u001b[0m, \u001b[38;5;34m10\u001b[0m)                  │           \u001b[38;5;34m2,570\u001b[0m │\n",
              "└──────────────────────────────────────┴─────────────────────────────┴─────────────────┘\n"
            ]
          },
          "metadata": {},
          "output_type": "display_data"
        },
        {
          "data": {
            "text/html": [
              "<pre style=\"white-space:pre;overflow-x:auto;line-height:normal;font-family:Menlo,'DejaVu Sans Mono',consolas,'Courier New',monospace\"><span style=\"font-weight: bold\"> Total params: </span><span style=\"color: #00af00; text-decoration-color: #00af00\">335,114</span> (1.28 MB)\n",
              "</pre>\n"
            ],
            "text/plain": [
              "\u001b[1m Total params: \u001b[0m\u001b[38;5;34m335,114\u001b[0m (1.28 MB)\n"
            ]
          },
          "metadata": {},
          "output_type": "display_data"
        },
        {
          "data": {
            "text/html": [
              "<pre style=\"white-space:pre;overflow-x:auto;line-height:normal;font-family:Menlo,'DejaVu Sans Mono',consolas,'Courier New',monospace\"><span style=\"font-weight: bold\"> Trainable params: </span><span style=\"color: #00af00; text-decoration-color: #00af00\">335,114</span> (1.28 MB)\n",
              "</pre>\n"
            ],
            "text/plain": [
              "\u001b[1m Trainable params: \u001b[0m\u001b[38;5;34m335,114\u001b[0m (1.28 MB)\n"
            ]
          },
          "metadata": {},
          "output_type": "display_data"
        },
        {
          "data": {
            "text/html": [
              "<pre style=\"white-space:pre;overflow-x:auto;line-height:normal;font-family:Menlo,'DejaVu Sans Mono',consolas,'Courier New',monospace\"><span style=\"font-weight: bold\"> Non-trainable params: </span><span style=\"color: #00af00; text-decoration-color: #00af00\">0</span> (0.00 B)\n",
              "</pre>\n"
            ],
            "text/plain": [
              "\u001b[1m Non-trainable params: \u001b[0m\u001b[38;5;34m0\u001b[0m (0.00 B)\n"
            ]
          },
          "metadata": {},
          "output_type": "display_data"
        }
      ],
      "source": [
        "model.summary()"
      ]
    },
    {
      "cell_type": "markdown",
      "metadata": {
        "id": "0WUMvyFyXUH6"
      },
      "source": [
        "## Compile The Model"
      ]
    },
    {
      "cell_type": "code",
      "execution_count": null,
      "metadata": {
        "colab": {
          "background_save": true
        },
        "id": "EBcZGcTROw4L"
      },
      "outputs": [],
      "source": [
        "model.compile(optimizer = 'adam' , loss = 'categorical_crossentropy' , metrics = ['accuracy'])"
      ]
    },
    {
      "cell_type": "markdown",
      "metadata": {
        "id": "EtIXZAEpXzG5"
      },
      "source": [
        "## Fit the Model"
      ]
    },
    {
      "cell_type": "code",
      "execution_count": null,
      "metadata": {
        "id": "QblSvfHMXdo8",
        "colab": {
          "base_uri": "https://localhost:8080/"
        },
        "outputId": "de442a53-aa2a-4cd5-ecfe-6611b3b7d575"
      },
      "outputs": [
        {
          "output_type": "stream",
          "name": "stdout",
          "text": [
            "Epoch 1/100\n",
            "\u001b[1m263/263\u001b[0m \u001b[32m━━━━━━━━━━━━━━━━━━━━\u001b[0m\u001b[37m\u001b[0m \u001b[1m7s\u001b[0m 21ms/step - accuracy: 0.6284 - loss: 10.9906 - val_accuracy: 0.8923 - val_loss: 0.4494\n",
            "Epoch 2/100\n",
            "\u001b[1m263/263\u001b[0m \u001b[32m━━━━━━━━━━━━━━━━━━━━\u001b[0m\u001b[37m\u001b[0m \u001b[1m3s\u001b[0m 12ms/step - accuracy: 0.8391 - loss: 0.6858 - val_accuracy: 0.9187 - val_loss: 0.2960\n",
            "Epoch 3/100\n",
            "\u001b[1m263/263\u001b[0m \u001b[32m━━━━━━━━━━━━━━━━━━━━\u001b[0m\u001b[37m\u001b[0m \u001b[1m5s\u001b[0m 13ms/step - accuracy: 0.8816 - loss: 0.4417 - val_accuracy: 0.9358 - val_loss: 0.2411\n",
            "Epoch 4/100\n",
            "\u001b[1m263/263\u001b[0m \u001b[32m━━━━━━━━━━━━━━━━━━━━\u001b[0m\u001b[37m\u001b[0m \u001b[1m6s\u001b[0m 18ms/step - accuracy: 0.9095 - loss: 0.3202 - val_accuracy: 0.9411 - val_loss: 0.2132\n",
            "Epoch 5/100\n",
            "\u001b[1m263/263\u001b[0m \u001b[32m━━━━━━━━━━━━━━━━━━━━\u001b[0m\u001b[37m\u001b[0m \u001b[1m3s\u001b[0m 13ms/step - accuracy: 0.9249 - loss: 0.2644 - val_accuracy: 0.9474 - val_loss: 0.1908\n",
            "Epoch 6/100\n",
            "\u001b[1m263/263\u001b[0m \u001b[32m━━━━━━━━━━━━━━━━━━━━\u001b[0m\u001b[37m\u001b[0m \u001b[1m3s\u001b[0m 12ms/step - accuracy: 0.9369 - loss: 0.2158 - val_accuracy: 0.9475 - val_loss: 0.1865\n",
            "Epoch 7/100\n",
            "\u001b[1m263/263\u001b[0m \u001b[32m━━━━━━━━━━━━━━━━━━━━\u001b[0m\u001b[37m\u001b[0m \u001b[1m4s\u001b[0m 15ms/step - accuracy: 0.9391 - loss: 0.2044 - val_accuracy: 0.9538 - val_loss: 0.1636\n",
            "Epoch 8/100\n",
            "\u001b[1m263/263\u001b[0m \u001b[32m━━━━━━━━━━━━━━━━━━━━\u001b[0m\u001b[37m\u001b[0m \u001b[1m5s\u001b[0m 13ms/step - accuracy: 0.9478 - loss: 0.1855 - val_accuracy: 0.9569 - val_loss: 0.1684\n",
            "Epoch 9/100\n",
            "\u001b[1m263/263\u001b[0m \u001b[32m━━━━━━━━━━━━━━━━━━━━\u001b[0m\u001b[37m\u001b[0m \u001b[1m3s\u001b[0m 12ms/step - accuracy: 0.9505 - loss: 0.1751 - val_accuracy: 0.9590 - val_loss: 0.1516\n",
            "Epoch 10/100\n",
            "\u001b[1m263/263\u001b[0m \u001b[32m━━━━━━━━━━━━━━━━━━━━\u001b[0m\u001b[37m\u001b[0m \u001b[1m6s\u001b[0m 18ms/step - accuracy: 0.9557 - loss: 0.1548 - val_accuracy: 0.9620 - val_loss: 0.1419\n",
            "Epoch 11/100\n",
            "\u001b[1m263/263\u001b[0m \u001b[32m━━━━━━━━━━━━━━━━━━━━\u001b[0m\u001b[37m\u001b[0m \u001b[1m4s\u001b[0m 15ms/step - accuracy: 0.9596 - loss: 0.1374 - val_accuracy: 0.9600 - val_loss: 0.1453\n",
            "Epoch 12/100\n",
            "\u001b[1m263/263\u001b[0m \u001b[32m━━━━━━━━━━━━━━━━━━━━\u001b[0m\u001b[37m\u001b[0m \u001b[1m3s\u001b[0m 13ms/step - accuracy: 0.9573 - loss: 0.1516 - val_accuracy: 0.9652 - val_loss: 0.1350\n",
            "Epoch 13/100\n",
            "\u001b[1m263/263\u001b[0m \u001b[32m━━━━━━━━━━━━━━━━━━━━\u001b[0m\u001b[37m\u001b[0m \u001b[1m3s\u001b[0m 13ms/step - accuracy: 0.9602 - loss: 0.1331 - val_accuracy: 0.9643 - val_loss: 0.1323\n",
            "Epoch 14/100\n",
            "\u001b[1m263/263\u001b[0m \u001b[32m━━━━━━━━━━━━━━━━━━━━\u001b[0m\u001b[37m\u001b[0m \u001b[1m5s\u001b[0m 19ms/step - accuracy: 0.9623 - loss: 0.1348 - val_accuracy: 0.9645 - val_loss: 0.1442\n",
            "Epoch 15/100\n",
            "\u001b[1m263/263\u001b[0m \u001b[32m━━━━━━━━━━━━━━━━━━━━\u001b[0m\u001b[37m\u001b[0m \u001b[1m3s\u001b[0m 13ms/step - accuracy: 0.9615 - loss: 0.1259 - val_accuracy: 0.9654 - val_loss: 0.1314\n",
            "Epoch 16/100\n",
            "\u001b[1m263/263\u001b[0m \u001b[32m━━━━━━━━━━━━━━━━━━━━\u001b[0m\u001b[37m\u001b[0m \u001b[1m3s\u001b[0m 12ms/step - accuracy: 0.9639 - loss: 0.1206 - val_accuracy: 0.9651 - val_loss: 0.1317\n",
            "Epoch 17/100\n",
            "\u001b[1m263/263\u001b[0m \u001b[32m━━━━━━━━━━━━━━━━━━━━\u001b[0m\u001b[37m\u001b[0m \u001b[1m6s\u001b[0m 17ms/step - accuracy: 0.9661 - loss: 0.1222 - val_accuracy: 0.9670 - val_loss: 0.1272\n",
            "Epoch 18/100\n",
            "\u001b[1m263/263\u001b[0m \u001b[32m━━━━━━━━━━━━━━━━━━━━\u001b[0m\u001b[37m\u001b[0m \u001b[1m4s\u001b[0m 16ms/step - accuracy: 0.9675 - loss: 0.1130 - val_accuracy: 0.9656 - val_loss: 0.1353\n",
            "Epoch 19/100\n",
            "\u001b[1m263/263\u001b[0m \u001b[32m━━━━━━━━━━━━━━━━━━━━\u001b[0m\u001b[37m\u001b[0m \u001b[1m4s\u001b[0m 13ms/step - accuracy: 0.9704 - loss: 0.1017 - val_accuracy: 0.9658 - val_loss: 0.1364\n",
            "Epoch 20/100\n",
            "\u001b[1m263/263\u001b[0m \u001b[32m━━━━━━━━━━━━━━━━━━━━\u001b[0m\u001b[37m\u001b[0m \u001b[1m3s\u001b[0m 12ms/step - accuracy: 0.9666 - loss: 0.1071 - val_accuracy: 0.9658 - val_loss: 0.1281\n",
            "Epoch 21/100\n",
            "\u001b[1m263/263\u001b[0m \u001b[32m━━━━━━━━━━━━━━━━━━━━\u001b[0m\u001b[37m\u001b[0m \u001b[1m6s\u001b[0m 16ms/step - accuracy: 0.9720 - loss: 0.1021 - val_accuracy: 0.9645 - val_loss: 0.1451\n",
            "Epoch 22/100\n",
            "\u001b[1m263/263\u001b[0m \u001b[32m━━━━━━━━━━━━━━━━━━━━\u001b[0m\u001b[37m\u001b[0m \u001b[1m4s\u001b[0m 12ms/step - accuracy: 0.9717 - loss: 0.1043 - val_accuracy: 0.9688 - val_loss: 0.1172\n",
            "Epoch 23/100\n",
            "\u001b[1m263/263\u001b[0m \u001b[32m━━━━━━━━━━━━━━━━━━━━\u001b[0m\u001b[37m\u001b[0m \u001b[1m6s\u001b[0m 16ms/step - accuracy: 0.9717 - loss: 0.0959 - val_accuracy: 0.9658 - val_loss: 0.1310\n",
            "Epoch 24/100\n",
            "\u001b[1m263/263\u001b[0m \u001b[32m━━━━━━━━━━━━━━━━━━━━\u001b[0m\u001b[37m\u001b[0m \u001b[1m5s\u001b[0m 17ms/step - accuracy: 0.9708 - loss: 0.0960 - val_accuracy: 0.9676 - val_loss: 0.1356\n",
            "Epoch 25/100\n",
            "\u001b[1m263/263\u001b[0m \u001b[32m━━━━━━━━━━━━━━━━━━━━\u001b[0m\u001b[37m\u001b[0m \u001b[1m4s\u001b[0m 12ms/step - accuracy: 0.9730 - loss: 0.0929 - val_accuracy: 0.9679 - val_loss: 0.1351\n",
            "Epoch 26/100\n",
            "\u001b[1m263/263\u001b[0m \u001b[32m━━━━━━━━━━━━━━━━━━━━\u001b[0m\u001b[37m\u001b[0m \u001b[1m6s\u001b[0m 14ms/step - accuracy: 0.9771 - loss: 0.0855 - val_accuracy: 0.9696 - val_loss: 0.1193\n",
            "Epoch 27/100\n",
            "\u001b[1m263/263\u001b[0m \u001b[32m━━━━━━━━━━━━━━━━━━━━\u001b[0m\u001b[37m\u001b[0m \u001b[1m5s\u001b[0m 14ms/step - accuracy: 0.9744 - loss: 0.0906 - val_accuracy: 0.9687 - val_loss: 0.1625\n",
            "Epoch 28/100\n",
            "\u001b[1m263/263\u001b[0m \u001b[32m━━━━━━━━━━━━━━━━━━━━\u001b[0m\u001b[37m\u001b[0m \u001b[1m3s\u001b[0m 12ms/step - accuracy: 0.9755 - loss: 0.0915 - val_accuracy: 0.9710 - val_loss: 0.1161\n",
            "Epoch 29/100\n",
            "\u001b[1m263/263\u001b[0m \u001b[32m━━━━━━━━━━━━━━━━━━━━\u001b[0m\u001b[37m\u001b[0m \u001b[1m3s\u001b[0m 13ms/step - accuracy: 0.9768 - loss: 0.0858 - val_accuracy: 0.9711 - val_loss: 0.1236\n",
            "Epoch 30/100\n",
            "\u001b[1m263/263\u001b[0m \u001b[32m━━━━━━━━━━━━━━━━━━━━\u001b[0m\u001b[37m\u001b[0m \u001b[1m5s\u001b[0m 19ms/step - accuracy: 0.9765 - loss: 0.0781 - val_accuracy: 0.9712 - val_loss: 0.1307\n",
            "Epoch 31/100\n",
            "\u001b[1m263/263\u001b[0m \u001b[32m━━━━━━━━━━━━━━━━━━━━\u001b[0m\u001b[37m\u001b[0m \u001b[1m4s\u001b[0m 13ms/step - accuracy: 0.9764 - loss: 0.0858 - val_accuracy: 0.9694 - val_loss: 0.1274\n",
            "Epoch 32/100\n",
            "\u001b[1m263/263\u001b[0m \u001b[32m━━━━━━━━━━━━━━━━━━━━\u001b[0m\u001b[37m\u001b[0m \u001b[1m5s\u001b[0m 12ms/step - accuracy: 0.9799 - loss: 0.0715 - val_accuracy: 0.9704 - val_loss: 0.1277\n",
            "Epoch 33/100\n",
            "\u001b[1m263/263\u001b[0m \u001b[32m━━━━━━━━━━━━━━━━━━━━\u001b[0m\u001b[37m\u001b[0m \u001b[1m7s\u001b[0m 19ms/step - accuracy: 0.9795 - loss: 0.0779 - val_accuracy: 0.9727 - val_loss: 0.1314\n",
            "Epoch 34/100\n",
            "\u001b[1m263/263\u001b[0m \u001b[32m━━━━━━━━━━━━━━━━━━━━\u001b[0m\u001b[37m\u001b[0m \u001b[1m3s\u001b[0m 13ms/step - accuracy: 0.9803 - loss: 0.0722 - val_accuracy: 0.9725 - val_loss: 0.1356\n",
            "Epoch 35/100\n",
            "\u001b[1m263/263\u001b[0m \u001b[32m━━━━━━━━━━━━━━━━━━━━\u001b[0m\u001b[37m\u001b[0m \u001b[1m5s\u001b[0m 12ms/step - accuracy: 0.9786 - loss: 0.0794 - val_accuracy: 0.9727 - val_loss: 0.1411\n",
            "Epoch 36/100\n",
            "\u001b[1m263/263\u001b[0m \u001b[32m━━━━━━━━━━━━━━━━━━━━\u001b[0m\u001b[37m\u001b[0m \u001b[1m4s\u001b[0m 16ms/step - accuracy: 0.9823 - loss: 0.0627 - val_accuracy: 0.9740 - val_loss: 0.1291\n",
            "Epoch 37/100\n",
            "\u001b[1m263/263\u001b[0m \u001b[32m━━━━━━━━━━━━━━━━━━━━\u001b[0m\u001b[37m\u001b[0m \u001b[1m4s\u001b[0m 13ms/step - accuracy: 0.9818 - loss: 0.0654 - val_accuracy: 0.9720 - val_loss: 0.1220\n",
            "Epoch 38/100\n",
            "\u001b[1m263/263\u001b[0m \u001b[32m━━━━━━━━━━━━━━━━━━━━\u001b[0m\u001b[37m\u001b[0m \u001b[1m3s\u001b[0m 12ms/step - accuracy: 0.9800 - loss: 0.0704 - val_accuracy: 0.9729 - val_loss: 0.1262\n",
            "Epoch 39/100\n",
            "\u001b[1m263/263\u001b[0m \u001b[32m━━━━━━━━━━━━━━━━━━━━\u001b[0m\u001b[37m\u001b[0m \u001b[1m6s\u001b[0m 16ms/step - accuracy: 0.9811 - loss: 0.0699 - val_accuracy: 0.9724 - val_loss: 0.1369\n",
            "Epoch 40/100\n",
            "\u001b[1m263/263\u001b[0m \u001b[32m━━━━━━━━━━━━━━━━━━━━\u001b[0m\u001b[37m\u001b[0m \u001b[1m5s\u001b[0m 17ms/step - accuracy: 0.9812 - loss: 0.0692 - val_accuracy: 0.9713 - val_loss: 0.1343\n",
            "Epoch 41/100\n",
            "\u001b[1m263/263\u001b[0m \u001b[32m━━━━━━━━━━━━━━━━━━━━\u001b[0m\u001b[37m\u001b[0m \u001b[1m4s\u001b[0m 12ms/step - accuracy: 0.9804 - loss: 0.0723 - val_accuracy: 0.9721 - val_loss: 0.1532\n",
            "Epoch 42/100\n",
            "\u001b[1m263/263\u001b[0m \u001b[32m━━━━━━━━━━━━━━━━━━━━\u001b[0m\u001b[37m\u001b[0m \u001b[1m3s\u001b[0m 13ms/step - accuracy: 0.9821 - loss: 0.0665 - val_accuracy: 0.9735 - val_loss: 0.1454\n",
            "Epoch 43/100\n",
            "\u001b[1m263/263\u001b[0m \u001b[32m━━━━━━━━━━━━━━━━━━━━\u001b[0m\u001b[37m\u001b[0m \u001b[1m5s\u001b[0m 18ms/step - accuracy: 0.9800 - loss: 0.0739 - val_accuracy: 0.9738 - val_loss: 0.1344\n",
            "Epoch 44/100\n",
            "\u001b[1m263/263\u001b[0m \u001b[32m━━━━━━━━━━━━━━━━━━━━\u001b[0m\u001b[37m\u001b[0m \u001b[1m4s\u001b[0m 13ms/step - accuracy: 0.9819 - loss: 0.0736 - val_accuracy: 0.9712 - val_loss: 0.1557\n",
            "Epoch 45/100\n",
            "\u001b[1m263/263\u001b[0m \u001b[32m━━━━━━━━━━━━━━━━━━━━\u001b[0m\u001b[37m\u001b[0m \u001b[1m3s\u001b[0m 12ms/step - accuracy: 0.9813 - loss: 0.0742 - val_accuracy: 0.9740 - val_loss: 0.1367\n",
            "Epoch 46/100\n",
            "\u001b[1m263/263\u001b[0m \u001b[32m━━━━━━━━━━━━━━━━━━━━\u001b[0m\u001b[37m\u001b[0m \u001b[1m6s\u001b[0m 16ms/step - accuracy: 0.9819 - loss: 0.0660 - val_accuracy: 0.9719 - val_loss: 0.1592\n",
            "Epoch 47/100\n",
            "\u001b[1m263/263\u001b[0m \u001b[32m━━━━━━━━━━━━━━━━━━━━\u001b[0m\u001b[37m\u001b[0m \u001b[1m4s\u001b[0m 15ms/step - accuracy: 0.9861 - loss: 0.0582 - val_accuracy: 0.9752 - val_loss: 0.1444\n",
            "Epoch 48/100\n",
            "\u001b[1m263/263\u001b[0m \u001b[32m━━━━━━━━━━━━━━━━━━━━\u001b[0m\u001b[37m\u001b[0m \u001b[1m3s\u001b[0m 12ms/step - accuracy: 0.9830 - loss: 0.0684 - val_accuracy: 0.9732 - val_loss: 0.1358\n",
            "Epoch 49/100\n",
            "\u001b[1m263/263\u001b[0m \u001b[32m━━━━━━━━━━━━━━━━━━━━\u001b[0m\u001b[37m\u001b[0m \u001b[1m6s\u001b[0m 15ms/step - accuracy: 0.9833 - loss: 0.0639 - val_accuracy: 0.9723 - val_loss: 0.1500\n",
            "Epoch 50/100\n",
            "\u001b[1m263/263\u001b[0m \u001b[32m━━━━━━━━━━━━━━━━━━━━\u001b[0m\u001b[37m\u001b[0m \u001b[1m5s\u001b[0m 16ms/step - accuracy: 0.9836 - loss: 0.0627 - val_accuracy: 0.9748 - val_loss: 0.1361\n",
            "Epoch 51/100\n",
            "\u001b[1m263/263\u001b[0m \u001b[32m━━━━━━━━━━━━━━━━━━━━\u001b[0m\u001b[37m\u001b[0m \u001b[1m3s\u001b[0m 13ms/step - accuracy: 0.9848 - loss: 0.0526 - val_accuracy: 0.9731 - val_loss: 0.1446\n",
            "Epoch 52/100\n",
            "\u001b[1m263/263\u001b[0m \u001b[32m━━━━━━━━━━━━━━━━━━━━\u001b[0m\u001b[37m\u001b[0m \u001b[1m3s\u001b[0m 12ms/step - accuracy: 0.9840 - loss: 0.0604 - val_accuracy: 0.9745 - val_loss: 0.1645\n",
            "Epoch 53/100\n",
            "\u001b[1m263/263\u001b[0m \u001b[32m━━━━━━━━━━━━━━━━━━━━\u001b[0m\u001b[37m\u001b[0m \u001b[1m5s\u001b[0m 14ms/step - accuracy: 0.9856 - loss: 0.0573 - val_accuracy: 0.9724 - val_loss: 0.1658\n",
            "Epoch 54/100\n",
            "\u001b[1m263/263\u001b[0m \u001b[32m━━━━━━━━━━━━━━━━━━━━\u001b[0m\u001b[37m\u001b[0m \u001b[1m5s\u001b[0m 13ms/step - accuracy: 0.9836 - loss: 0.0644 - val_accuracy: 0.9720 - val_loss: 0.1649\n",
            "Epoch 55/100\n",
            "\u001b[1m263/263\u001b[0m \u001b[32m━━━━━━━━━━━━━━━━━━━━\u001b[0m\u001b[37m\u001b[0m \u001b[1m7s\u001b[0m 20ms/step - accuracy: 0.9836 - loss: 0.0703 - val_accuracy: 0.9731 - val_loss: 0.1532\n",
            "Epoch 56/100\n",
            "\u001b[1m263/263\u001b[0m \u001b[32m━━━━━━━━━━━━━━━━━━━━\u001b[0m\u001b[37m\u001b[0m \u001b[1m8s\u001b[0m 13ms/step - accuracy: 0.9843 - loss: 0.0579 - val_accuracy: 0.9760 - val_loss: 0.1582\n",
            "Epoch 57/100\n",
            "\u001b[1m263/263\u001b[0m \u001b[32m━━━━━━━━━━━━━━━━━━━━\u001b[0m\u001b[37m\u001b[0m \u001b[1m7s\u001b[0m 20ms/step - accuracy: 0.9873 - loss: 0.0479 - val_accuracy: 0.9714 - val_loss: 0.1842\n",
            "Epoch 58/100\n",
            "\u001b[1m263/263\u001b[0m \u001b[32m━━━━━━━━━━━━━━━━━━━━\u001b[0m\u001b[37m\u001b[0m \u001b[1m3s\u001b[0m 13ms/step - accuracy: 0.9855 - loss: 0.0568 - val_accuracy: 0.9749 - val_loss: 0.1678\n",
            "Epoch 59/100\n",
            "\u001b[1m263/263\u001b[0m \u001b[32m━━━━━━━━━━━━━━━━━━━━\u001b[0m\u001b[37m\u001b[0m \u001b[1m3s\u001b[0m 12ms/step - accuracy: 0.9881 - loss: 0.0485 - val_accuracy: 0.9746 - val_loss: 0.1588\n",
            "Epoch 60/100\n",
            "\u001b[1m263/263\u001b[0m \u001b[32m━━━━━━━━━━━━━━━━━━━━\u001b[0m\u001b[37m\u001b[0m \u001b[1m3s\u001b[0m 13ms/step - accuracy: 0.9855 - loss: 0.0599 - val_accuracy: 0.9744 - val_loss: 0.1438\n",
            "Epoch 61/100\n",
            "\u001b[1m263/263\u001b[0m \u001b[32m━━━━━━━━━━━━━━━━━━━━\u001b[0m\u001b[37m\u001b[0m \u001b[1m5s\u001b[0m 20ms/step - accuracy: 0.9884 - loss: 0.0469 - val_accuracy: 0.9754 - val_loss: 0.1647\n",
            "Epoch 62/100\n",
            "\u001b[1m263/263\u001b[0m \u001b[32m━━━━━━━━━━━━━━━━━━━━\u001b[0m\u001b[37m\u001b[0m \u001b[1m3s\u001b[0m 12ms/step - accuracy: 0.9877 - loss: 0.0461 - val_accuracy: 0.9715 - val_loss: 0.1904\n",
            "Epoch 63/100\n",
            "\u001b[1m263/263\u001b[0m \u001b[32m━━━━━━━━━━━━━━━━━━━━\u001b[0m\u001b[37m\u001b[0m \u001b[1m3s\u001b[0m 12ms/step - accuracy: 0.9862 - loss: 0.0569 - val_accuracy: 0.9719 - val_loss: 0.2134\n",
            "Epoch 64/100\n",
            "\u001b[1m263/263\u001b[0m \u001b[32m━━━━━━━━━━━━━━━━━━━━\u001b[0m\u001b[37m\u001b[0m \u001b[1m3s\u001b[0m 13ms/step - accuracy: 0.9874 - loss: 0.0467 - val_accuracy: 0.9730 - val_loss: 0.1861\n",
            "Epoch 65/100\n",
            "\u001b[1m263/263\u001b[0m \u001b[32m━━━━━━━━━━━━━━━━━━━━\u001b[0m\u001b[37m\u001b[0m \u001b[1m6s\u001b[0m 14ms/step - accuracy: 0.9858 - loss: 0.0547 - val_accuracy: 0.9713 - val_loss: 0.1812\n",
            "Epoch 66/100\n",
            "\u001b[1m263/263\u001b[0m \u001b[32m━━━━━━━━━━━━━━━━━━━━\u001b[0m\u001b[37m\u001b[0m \u001b[1m5s\u001b[0m 13ms/step - accuracy: 0.9839 - loss: 0.0611 - val_accuracy: 0.9745 - val_loss: 0.2098\n",
            "Epoch 67/100\n",
            "\u001b[1m263/263\u001b[0m \u001b[32m━━━━━━━━━━━━━━━━━━━━\u001b[0m\u001b[37m\u001b[0m \u001b[1m4s\u001b[0m 15ms/step - accuracy: 0.9869 - loss: 0.0593 - val_accuracy: 0.9736 - val_loss: 0.1727\n",
            "Epoch 68/100\n",
            "\u001b[1m263/263\u001b[0m \u001b[32m━━━━━━━━━━━━━━━━━━━━\u001b[0m\u001b[37m\u001b[0m \u001b[1m5s\u001b[0m 14ms/step - accuracy: 0.9860 - loss: 0.0580 - val_accuracy: 0.9746 - val_loss: 0.1752\n",
            "Epoch 69/100\n",
            "\u001b[1m263/263\u001b[0m \u001b[32m━━━━━━━━━━━━━━━━━━━━\u001b[0m\u001b[37m\u001b[0m \u001b[1m3s\u001b[0m 13ms/step - accuracy: 0.9866 - loss: 0.0563 - val_accuracy: 0.9750 - val_loss: 0.1680\n",
            "Epoch 70/100\n",
            "\u001b[1m263/263\u001b[0m \u001b[32m━━━━━━━━━━━━━━━━━━━━\u001b[0m\u001b[37m\u001b[0m \u001b[1m3s\u001b[0m 12ms/step - accuracy: 0.9868 - loss: 0.0573 - val_accuracy: 0.9761 - val_loss: 0.1640\n",
            "Epoch 71/100\n",
            "\u001b[1m263/263\u001b[0m \u001b[32m━━━━━━━━━━━━━━━━━━━━\u001b[0m\u001b[37m\u001b[0m \u001b[1m6s\u001b[0m 17ms/step - accuracy: 0.9890 - loss: 0.0392 - val_accuracy: 0.9749 - val_loss: 0.1957\n",
            "Epoch 72/100\n",
            "\u001b[1m263/263\u001b[0m \u001b[32m━━━━━━━━━━━━━━━━━━━━\u001b[0m\u001b[37m\u001b[0m \u001b[1m3s\u001b[0m 12ms/step - accuracy: 0.9891 - loss: 0.0429 - val_accuracy: 0.9749 - val_loss: 0.1826\n",
            "Epoch 73/100\n",
            "\u001b[1m263/263\u001b[0m \u001b[32m━━━━━━━━━━━━━━━━━━━━\u001b[0m\u001b[37m\u001b[0m \u001b[1m3s\u001b[0m 13ms/step - accuracy: 0.9863 - loss: 0.0579 - val_accuracy: 0.9744 - val_loss: 0.2069\n",
            "Epoch 74/100\n",
            "\u001b[1m263/263\u001b[0m \u001b[32m━━━━━━━━━━━━━━━━━━━━\u001b[0m\u001b[37m\u001b[0m \u001b[1m7s\u001b[0m 20ms/step - accuracy: 0.9867 - loss: 0.0588 - val_accuracy: 0.9776 - val_loss: 0.1561\n",
            "Epoch 75/100\n",
            "\u001b[1m263/263\u001b[0m \u001b[32m━━━━━━━━━━━━━━━━━━━━\u001b[0m\u001b[37m\u001b[0m \u001b[1m3s\u001b[0m 12ms/step - accuracy: 0.9890 - loss: 0.0412 - val_accuracy: 0.9744 - val_loss: 0.2257\n",
            "Epoch 76/100\n",
            "\u001b[1m263/263\u001b[0m \u001b[32m━━━━━━━━━━━━━━━━━━━━\u001b[0m\u001b[37m\u001b[0m \u001b[1m3s\u001b[0m 12ms/step - accuracy: 0.9882 - loss: 0.0522 - val_accuracy: 0.9765 - val_loss: 0.1957\n",
            "Epoch 77/100\n",
            "\u001b[1m263/263\u001b[0m \u001b[32m━━━━━━━━━━━━━━━━━━━━\u001b[0m\u001b[37m\u001b[0m \u001b[1m3s\u001b[0m 13ms/step - accuracy: 0.9883 - loss: 0.0504 - val_accuracy: 0.9752 - val_loss: 0.2135\n",
            "Epoch 78/100\n",
            "\u001b[1m263/263\u001b[0m \u001b[32m━━━━━━━━━━━━━━━━━━━━\u001b[0m\u001b[37m\u001b[0m \u001b[1m6s\u001b[0m 15ms/step - accuracy: 0.9883 - loss: 0.0506 - val_accuracy: 0.9742 - val_loss: 0.1845\n",
            "Epoch 79/100\n",
            "\u001b[1m263/263\u001b[0m \u001b[32m━━━━━━━━━━━━━━━━━━━━\u001b[0m\u001b[37m\u001b[0m \u001b[1m3s\u001b[0m 13ms/step - accuracy: 0.9905 - loss: 0.0385 - val_accuracy: 0.9746 - val_loss: 0.2094\n",
            "Epoch 80/100\n",
            "\u001b[1m263/263\u001b[0m \u001b[32m━━━━━━━━━━━━━━━━━━━━\u001b[0m\u001b[37m\u001b[0m \u001b[1m6s\u001b[0m 16ms/step - accuracy: 0.9886 - loss: 0.0523 - val_accuracy: 0.9745 - val_loss: 0.1882\n",
            "Epoch 81/100\n",
            "\u001b[1m263/263\u001b[0m \u001b[32m━━━━━━━━━━━━━━━━━━━━\u001b[0m\u001b[37m\u001b[0m \u001b[1m5s\u001b[0m 19ms/step - accuracy: 0.9885 - loss: 0.0483 - val_accuracy: 0.9750 - val_loss: 0.1863\n",
            "Epoch 82/100\n",
            "\u001b[1m263/263\u001b[0m \u001b[32m━━━━━━━━━━━━━━━━━━━━\u001b[0m\u001b[37m\u001b[0m \u001b[1m4s\u001b[0m 16ms/step - accuracy: 0.9888 - loss: 0.0430 - val_accuracy: 0.9764 - val_loss: 0.1865\n",
            "Epoch 83/100\n",
            "\u001b[1m263/263\u001b[0m \u001b[32m━━━━━━━━━━━━━━━━━━━━\u001b[0m\u001b[37m\u001b[0m \u001b[1m4s\u001b[0m 14ms/step - accuracy: 0.9897 - loss: 0.0440 - val_accuracy: 0.9757 - val_loss: 0.1976\n",
            "Epoch 84/100\n",
            "\u001b[1m263/263\u001b[0m \u001b[32m━━━━━━━━━━━━━━━━━━━━\u001b[0m\u001b[37m\u001b[0m \u001b[1m5s\u001b[0m 15ms/step - accuracy: 0.9873 - loss: 0.0580 - val_accuracy: 0.9763 - val_loss: 0.2095\n",
            "Epoch 85/100\n",
            "\u001b[1m263/263\u001b[0m \u001b[32m━━━━━━━━━━━━━━━━━━━━\u001b[0m\u001b[37m\u001b[0m \u001b[1m3s\u001b[0m 12ms/step - accuracy: 0.9904 - loss: 0.0429 - val_accuracy: 0.9782 - val_loss: 0.2167\n",
            "Epoch 86/100\n",
            "\u001b[1m263/263\u001b[0m \u001b[32m━━━━━━━━━━━━━━━━━━━━\u001b[0m\u001b[37m\u001b[0m \u001b[1m3s\u001b[0m 12ms/step - accuracy: 0.9896 - loss: 0.0458 - val_accuracy: 0.9751 - val_loss: 0.1925\n",
            "Epoch 87/100\n",
            "\u001b[1m263/263\u001b[0m \u001b[32m━━━━━━━━━━━━━━━━━━━━\u001b[0m\u001b[37m\u001b[0m \u001b[1m5s\u001b[0m 19ms/step - accuracy: 0.9903 - loss: 0.0425 - val_accuracy: 0.9777 - val_loss: 0.1942\n",
            "Epoch 88/100\n",
            "\u001b[1m263/263\u001b[0m \u001b[32m━━━━━━━━━━━━━━━━━━━━\u001b[0m\u001b[37m\u001b[0m \u001b[1m4s\u001b[0m 14ms/step - accuracy: 0.9901 - loss: 0.0417 - val_accuracy: 0.9765 - val_loss: 0.1643\n",
            "Epoch 89/100\n",
            "\u001b[1m263/263\u001b[0m \u001b[32m━━━━━━━━━━━━━━━━━━━━\u001b[0m\u001b[37m\u001b[0m \u001b[1m5s\u001b[0m 12ms/step - accuracy: 0.9886 - loss: 0.0488 - val_accuracy: 0.9752 - val_loss: 0.2028\n",
            "Epoch 90/100\n",
            "\u001b[1m263/263\u001b[0m \u001b[32m━━━━━━━━━━━━━━━━━━━━\u001b[0m\u001b[37m\u001b[0m \u001b[1m7s\u001b[0m 20ms/step - accuracy: 0.9904 - loss: 0.0385 - val_accuracy: 0.9767 - val_loss: 0.2186\n",
            "Epoch 91/100\n",
            "\u001b[1m263/263\u001b[0m \u001b[32m━━━━━━━━━━━━━━━━━━━━\u001b[0m\u001b[37m\u001b[0m \u001b[1m4s\u001b[0m 15ms/step - accuracy: 0.9898 - loss: 0.0438 - val_accuracy: 0.9764 - val_loss: 0.2348\n",
            "Epoch 92/100\n",
            "\u001b[1m263/263\u001b[0m \u001b[32m━━━━━━━━━━━━━━━━━━━━\u001b[0m\u001b[37m\u001b[0m \u001b[1m3s\u001b[0m 13ms/step - accuracy: 0.9891 - loss: 0.0381 - val_accuracy: 0.9746 - val_loss: 0.2488\n",
            "Epoch 93/100\n",
            "\u001b[1m263/263\u001b[0m \u001b[32m━━━━━━━━━━━━━━━━━━━━\u001b[0m\u001b[37m\u001b[0m \u001b[1m4s\u001b[0m 15ms/step - accuracy: 0.9898 - loss: 0.0393 - val_accuracy: 0.9755 - val_loss: 0.2369\n",
            "Epoch 94/100\n",
            "\u001b[1m263/263\u001b[0m \u001b[32m━━━━━━━━━━━━━━━━━━━━\u001b[0m\u001b[37m\u001b[0m \u001b[1m6s\u001b[0m 17ms/step - accuracy: 0.9888 - loss: 0.0651 - val_accuracy: 0.9764 - val_loss: 0.2545\n",
            "Epoch 95/100\n",
            "\u001b[1m263/263\u001b[0m \u001b[32m━━━━━━━━━━━━━━━━━━━━\u001b[0m\u001b[37m\u001b[0m \u001b[1m4s\u001b[0m 14ms/step - accuracy: 0.9895 - loss: 0.0501 - val_accuracy: 0.9758 - val_loss: 0.2193\n",
            "Epoch 96/100\n",
            "\u001b[1m263/263\u001b[0m \u001b[32m━━━━━━━━━━━━━━━━━━━━\u001b[0m\u001b[37m\u001b[0m \u001b[1m6s\u001b[0m 16ms/step - accuracy: 0.9904 - loss: 0.0394 - val_accuracy: 0.9769 - val_loss: 0.2399\n",
            "Epoch 97/100\n",
            "\u001b[1m263/263\u001b[0m \u001b[32m━━━━━━━━━━━━━━━━━━━━\u001b[0m\u001b[37m\u001b[0m \u001b[1m5s\u001b[0m 20ms/step - accuracy: 0.9891 - loss: 0.0454 - val_accuracy: 0.9776 - val_loss: 0.2287\n",
            "Epoch 98/100\n",
            "\u001b[1m263/263\u001b[0m \u001b[32m━━━━━━━━━━━━━━━━━━━━\u001b[0m\u001b[37m\u001b[0m \u001b[1m4s\u001b[0m 13ms/step - accuracy: 0.9889 - loss: 0.0584 - val_accuracy: 0.9748 - val_loss: 0.2026\n",
            "Epoch 99/100\n",
            "\u001b[1m263/263\u001b[0m \u001b[32m━━━━━━━━━━━━━━━━━━━━\u001b[0m\u001b[37m\u001b[0m \u001b[1m3s\u001b[0m 13ms/step - accuracy: 0.9880 - loss: 0.0509 - val_accuracy: 0.9763 - val_loss: 0.2829\n",
            "Epoch 100/100\n",
            "\u001b[1m263/263\u001b[0m \u001b[32m━━━━━━━━━━━━━━━━━━━━\u001b[0m\u001b[37m\u001b[0m \u001b[1m7s\u001b[0m 21ms/step - accuracy: 0.9899 - loss: 0.0479 - val_accuracy: 0.9762 - val_loss: 0.2414\n"
          ]
        }
      ],
      "source": [
        "hist = model.fit(x_train , y_train_ohe , batch_size = 128 , epochs = 100 , validation_data = (x_test , y_test_ohe))"
      ]
    },
    {
      "cell_type": "code",
      "execution_count": null,
      "metadata": {
        "id": "zvBcjuI0YDzz",
        "colab": {
          "base_uri": "https://localhost:8080/"
        },
        "outputId": "92bc395e-7187-4f7b-a8f3-fb5f690b05ca"
      },
      "outputs": [
        {
          "output_type": "display_data",
          "data": {
            "text/plain": [
              "<Figure size 640x480 with 1 Axes>"
            ],
            "image/png": "[encoded data removed]"
          },
          "metadata": {}
        }
      ],
      "source": [
        "plt.plot(hist.history['accuracy'])\n",
        "plt.plot(hist.history['val_accuracy'])\n",
        "plt.title('Model Accuracy')\n",
        "plt.ylabel('Accuracy')\n",
        "plt.xlabel('Epochs')\n",
        "plt.legend(['Train' , 'Validation'] , loc = 'upper left')\n",
        "plt.show()"
      ]
    },
    {
      "cell_type": "code",
      "execution_count": null,
      "metadata": {
        "id": "sv0Z81BfbYVJ",
        "colab": {
          "base_uri": "https://localhost:8080/",
          "height": 472
        },
        "outputId": "ccb57a10-1147-43a9-83d6-cd5bdc77b946"
      },
      "outputs": [
        {
          "output_type": "display_data",
          "data": {
            "text/plain": [
              "<Figure size 640x480 with 1 Axes>"
            ],
            "image/png": "[encoded data removed]"
          },
          "metadata": {}
        }
      ],
      "source": [
        "plt.plot(hist.history['loss'])\n",
        "plt.plot(hist.history['val_loss'])\n",
        "plt.title('Model Loss')\n",
        "plt.ylabel('Loss')\n",
        "plt.xlabel('Epochs')\n",
        "plt.legend(['Train' , 'Validation'] , loc = 'upper left')\n",
        "plt.show()"
      ]
    },
    {
      "cell_type": "markdown",
      "metadata": {
        "id": "-fS3a2hIdLxh"
      },
      "source": [
        "## Model Evaluation"
      ]
    },
    {
      "cell_type": "code",
      "execution_count": null,
      "metadata": {
        "id": "2KsRUqBfbl8e",
        "colab": {
          "base_uri": "https://localhost:8080/"
        },
        "outputId": "19b6a02a-eb7c-4c2c-9f85-31ee6a4f0461"
      },
      "outputs": [
        {
          "output_type": "stream",
          "name": "stdout",
          "text": [
            "\u001b[1m1050/1050\u001b[0m \u001b[32m━━━━━━━━━━━━━━━━━━━━\u001b[0m\u001b[37m\u001b[0m \u001b[1m3s\u001b[0m 3ms/step\n",
            "\u001b[1m263/263\u001b[0m \u001b[32m━━━━━━━━━━━━━━━━━━━━\u001b[0m\u001b[37m\u001b[0m \u001b[1m1s\u001b[0m 4ms/step\n"
          ]
        }
      ],
      "source": [
        "y_hat_train_dense = np.argmax(model.predict(x_train) , axis = 1)\n",
        "y_hat_test_dense = np.argmax(model.predict(x_test) , axis = 1)"
      ]
    },
    {
      "cell_type": "code",
      "execution_count": null,
      "metadata": {
        "id": "0NEoTI_ydSlU",
        "colab": {
          "base_uri": "https://localhost:8080/"
        },
        "outputId": "6d00438a-447d-4369-cb30-c112316ce384"
      },
      "outputs": [
        {
          "output_type": "stream",
          "name": "stdout",
          "text": [
            "The Accuracy of the Model is: 1.0\n",
            "[[3331    0    0    0    0    0    1    0    4    0]\n",
            " [   0 3736    0    0    0    0    0    0    2    0]\n",
            " [   0    0 3319    1    0    0    0    0    1    0]\n",
            " [   0    0    2 3486    0    1    0    0    6    0]\n",
            " [   0    0    0    0 3243    0    2    0    0    1]\n",
            " [   0    0    1    2    0 3015    1    0    3    0]\n",
            " [   1    0    0    0    0    0 3348    0    1    0]\n",
            " [   0    0    0    0    1    0    0 3530    0    1]\n",
            " [   0    0    4    0    0    2    0    0 3220    1]\n",
            " [   2    0    0    2    1    0    0    1    5 3322]]\n",
            "              precision    recall  f1-score   support\n",
            "\n",
            "           0       1.00      1.00      1.00      3336\n",
            "           1       1.00      1.00      1.00      3738\n",
            "           2       1.00      1.00      1.00      3321\n",
            "           3       1.00      1.00      1.00      3495\n",
            "           4       1.00      1.00      1.00      3246\n",
            "           5       1.00      1.00      1.00      3022\n",
            "           6       1.00      1.00      1.00      3350\n",
            "           7       1.00      1.00      1.00      3532\n",
            "           8       0.99      1.00      1.00      3227\n",
            "           9       1.00      1.00      1.00      3333\n",
            "\n",
            "    accuracy                           1.00     33600\n",
            "   macro avg       1.00      1.00      1.00     33600\n",
            "weighted avg       1.00      1.00      1.00     33600\n",
            "\n"
          ]
        }
      ],
      "source": [
        "model_eval(y_train , y_hat_train_dense)"
      ]
    },
    {
      "cell_type": "code",
      "execution_count": null,
      "metadata": {
        "id": "Tknnm9hneHW_",
        "colab": {
          "base_uri": "https://localhost:8080/"
        },
        "outputId": "4ebc4618-bcbe-43c0-b470-f0c5e425c4ed"
      },
      "outputs": [
        {
          "output_type": "stream",
          "name": "stdout",
          "text": [
            "The Accuracy of the Model is: 0.98\n",
            "[[782   0   2   1   1   1   3   0   4   2]\n",
            " [  0 938   2   1   1   0   0   2   2   0]\n",
            " [  0   2 846   1   2   0   1   2   2   0]\n",
            " [  0   0   4 837   0   9   0   2   4   0]\n",
            " [  3   1   2   0 809   0   4   1   2   4]\n",
            " [  0   0   2   9   0 743   7   0  10   2]\n",
            " [  6   2   1   0   1   2 774   0   1   0]\n",
            " [  0   0   7   2   4   0   0 853   2   1]\n",
            " [  3   6  12   4   1   3   7   2 792   6]\n",
            " [  1   0   0  10   5   2   0   6   5 826]]\n",
            "              precision    recall  f1-score   support\n",
            "\n",
            "           0       0.98      0.98      0.98       796\n",
            "           1       0.99      0.99      0.99       946\n",
            "           2       0.96      0.99      0.98       856\n",
            "           3       0.97      0.98      0.97       856\n",
            "           4       0.98      0.98      0.98       826\n",
            "           5       0.98      0.96      0.97       773\n",
            "           6       0.97      0.98      0.98       787\n",
            "           7       0.98      0.98      0.98       869\n",
            "           8       0.96      0.95      0.95       836\n",
            "           9       0.98      0.97      0.97       855\n",
            "\n",
            "    accuracy                           0.98      8400\n",
            "   macro avg       0.98      0.98      0.98      8400\n",
            "weighted avg       0.98      0.98      0.98      8400\n",
            "\n"
          ]
        }
      ],
      "source": [
        "model_eval(y_test , y_hat_test_dense)"
      ]
    }
  ],
  "metadata": {
    "colab": {
      "provenance": []
    },
    "kernelspec": {
      "display_name": "Python 3",
      "name": "python3"
    },
    "language_info": {
      "name": "python"
    }
  },
  "nbformat": 4,
  "nbformat_minor": 0
}