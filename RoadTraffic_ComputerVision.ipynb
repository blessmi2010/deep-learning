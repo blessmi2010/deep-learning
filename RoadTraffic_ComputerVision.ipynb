{
  "nbformat": 4,
  "nbformat_minor": 0,
  "metadata": {
    "colab": {
      "provenance": []
    },
    "kernelspec": {
      "name": "python3",
      "display_name": "Python 3"
    },
    "language_info": {
      "name": "python"
    }
  },
  "cells": [
    {
      "cell_type": "markdown",
      "source": [
        "## Install libraries"
      ],
      "metadata": {
        "id": "x66qH9ZFv61V"
      }
    },
    {
      "cell_type": "code",
      "source": [
        "!pip install ultralytics -q\n",
        "from ultralytics import YOLO\n",
        "import cv2\n"
      ],
      "metadata": {
        "id": "QkYtQKe5K6j6"
      },
      "execution_count": 112,
      "outputs": []
    },
    {
      "cell_type": "code",
      "source": [
        "from IPython.display import Video, display"
      ],
      "metadata": {
        "id": "w5rLUr73K7mc"
      },
      "execution_count": 113,
      "outputs": []
    },
    {
      "cell_type": "code",
      "source": [
        "model = YOLO(\"yolov8x.pt\")"
      ],
      "metadata": {
        "id": "aWNM_gaJF56E"
      },
      "execution_count": 114,
      "outputs": []
    },
    {
      "cell_type": "code",
      "source": [
        "# Video path for experiment\n",
        "path = 'https://docs.google.com/uc?export=download&confirm=&id=1pz68D1Gsx80MoPg-_q-IbEdESEmyVLm-'\n",
        "video = cv2.VideoCapture(path)\n"
      ],
      "metadata": {
        "id": "cObB5-MHuWH_"
      },
      "execution_count": 115,
      "outputs": []
    },
    {
      "cell_type": "code",
      "source": [
        "# Output video settings\n",
        "video_name = 'result.mp4'\n",
        "output_path = \"rep_\" + video_name\n",
        "fps = video.get(cv2.CAP_PROP_FPS)\n",
        "width = int(video.get(cv2.CAP_PROP_FRAME_WIDTH))\n",
        "height = int(video.get(cv2.CAP_PROP_FRAME_HEIGHT))\n",
        "VIDEO_CODEC = \"mp4v\"\n",
        "output_video = cv2.VideoWriter(output_path, cv2.VideoWriter_fourcc(*VIDEO_CODEC), fps, (width, height))"
      ],
      "metadata": {
        "id": "SwFAgupnu0DA"
      },
      "execution_count": 116,
      "outputs": []
    },
    {
      "cell_type": "code",
      "source": [
        "class_IDS = [2, 3, 5, 7]  # Adjust according to your model's class IDs\n",
        "dict_classes = {2: 'Car', 3: 'Motorbike', 5: 'Bus', 7: 'Truck'}\n"
      ],
      "metadata": {
        "id": "F7in--_-CA8V"
      },
      "execution_count": 117,
      "outputs": []
    },
    {
      "cell_type": "code",
      "source": [
        "# Process video frames\n",
        "while True:\n",
        "    ret, frame = video.read()\n",
        "    if not ret:\n",
        "        break"
      ],
      "metadata": {
        "id": "DKvZEvZfDswb"
      },
      "execution_count": 118,
      "outputs": []
    },
    {
      "cell_type": "code",
      "source": [
        "results = model.predict(source=frame, conf=0.7, classes=class_IDS, device=\"cpu\", verbose=False)\n"
      ],
      "metadata": {
        "colab": {
          "base_uri": "https://localhost:8080/"
        },
        "id": "NxtZH1PjGPcl",
        "outputId": "031dc8f1-1092-46e1-a7c3-ea2709230fa5"
      },
      "execution_count": 119,
      "outputs": [
        {
          "output_type": "stream",
          "name": "stdout",
          "text": [
            "WARNING ⚠️ 'source' is missing. Using 'source=/usr/local/lib/python3.10/dist-packages/ultralytics/assets'.\n"
          ]
        }
      ]
    },
    {
      "cell_type": "code",
      "source": [
        "# Extract bounding boxes, confidences, and class IDs\n",
        "boxes = results[0].boxes.xyxy.cpu().numpy()\n",
        "conf = results[0].boxes.conf.cpu().numpy()\n",
        "classes = results[0].boxes.cls.cpu().numpy()\n"
      ],
      "metadata": {
        "id": "qcx6-YedGyPy"
      },
      "execution_count": 120,
      "outputs": []
    },
    {
      "cell_type": "code",
      "source": [
        "# Draw bounding boxes and labels on the frame\n",
        "for ix in range(len(boxes)):\n",
        "    xmin, ymin, xmax, ymax = boxes[ix].astype(int)\n",
        "    label = dict_classes.get(classes[ix], \"Unknown\")\n",
        "    confidence = conf[ix]"
      ],
      "metadata": {
        "id": "WKFUH50NG30A"
      },
      "execution_count": 121,
      "outputs": []
    },
    {
      "cell_type": "code",
      "source": [
        "# Draw bounding box\n",
        "cv2.rectangle(frame, (xmin, ymin), (xmax, ymax), (255, 0, 0), 2)"
      ],
      "metadata": {
        "id": "A4Yuchs4w-V8"
      },
      "execution_count": 122,
      "outputs": []
    },
    {
      "cell_type": "code",
      "source": [
        "# Draw label with confidence score\n",
        "label_text = f\"{label} {confidence:.2f}\"\n",
        "cv2.putText(frame, label_text, (xmin, ymin - 10), cv2.FONT_HERSHEY_SIMPLEX, 0.5, (255, 0, 0), 2)\n"
      ],
      "metadata": {
        "id": "sRFfMFf4xdjd"
      },
      "execution_count": 123,
      "outputs": []
    },
    {
      "cell_type": "code",
      "source": [
        "# Write the frame to the output video\n",
        "output_video.write(frame)"
      ],
      "metadata": {
        "id": "Bf8UJYMfHGjm"
      },
      "execution_count": 124,
      "outputs": []
    },
    {
      "cell_type": "code",
      "source": [
        "# Release resources\n",
        "video.release()\n",
        "output_video.release()\n",
        "cv2.destroyAllWindows()"
      ],
      "metadata": {
        "id": "VuELSF9mHKhs"
      },
      "execution_count": 125,
      "outputs": []
    },
    {
      "cell_type": "code",
      "source": [
        "print(f'[INFO] - Video saved to {output_path}')"
      ],
      "metadata": {
        "colab": {
          "base_uri": "https://localhost:8080/"
        },
        "id": "YaNHncfMHMwJ",
        "outputId": "9e957d8e-a82e-4f67-a8ae-836067b90095"
      },
      "execution_count": 126,
      "outputs": [
        {
          "output_type": "stream",
          "name": "stdout",
          "text": [
            "[INFO] - Video saved to rep_result.mp4\n"
          ]
        }
      ]
    },
    {
      "cell_type": "code",
      "source": [
        "output_path = \"rep_result.mp4\""
      ],
      "metadata": {
        "id": "BhCGEBA_IFEa"
      },
      "execution_count": 127,
      "outputs": []
    },
    {
      "cell_type": "code",
      "source": [
        "display(Video(output_path, width=600, height=400, embed=True))\n"
      ],
      "metadata": {
        "colab": {
          "base_uri": "https://localhost:8080/",
          "height": 421
        },
        "id": "Xh4CFC2gILJu",
        "outputId": "7e745877-1ab7-417c-f585-7be99d318255"
      },
      "execution_count": 128,
      "outputs": [
        {
          "output_type": "display_data",
          "data": {
            "text/plain": [
              "<IPython.core.display.Video object>"
            ],
            "text/html": [
              "<video controls  width=\"600\"  height=\"400\">\n",
              " <source src=\"data:video/mp4;base64,AAAAHGZ0eXBpc29tAAACAGlzb21pc28ybXA0MQAAAAhmcmVlAAAACG1kYXQAAADWbW9vdgAAAGxtdmhkAAAAAAAAAAAAAAAAAAAD6AAAAAAAAQAAAQAAAAAAAAAAAAAAAAEAAAAAAAAAAAAAAAAAAAABAAAAAAAAAAAAAAAAAABAAAAAAAAAAAAAAAAAAAAAAAAAAAAAAAAAAAAAAAAAAgAAAGJ1ZHRhAAAAWm1ldGEAAAAAAAAAIWhkbHIAAAAAAAAAAG1kaXJhcHBsAAAAAAAAAAAAAAAALWlsc3QAAAAlqXRvbwAAAB1kYXRhAAAAAQAAAABMYXZmNTkuMjcuMTAw\" type=\"video/mp4\">\n",
              " Your browser does not support the video tag.\n",
              " </video>"
            ]
          },
          "metadata": {}
        }
      ]
    }
  ]
}